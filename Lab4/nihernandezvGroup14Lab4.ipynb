{
  "nbformat": 4,
  "nbformat_minor": 0,
  "metadata": {
    "colab": {
      "provenance": []
    },
    "kernelspec": {
      "name": "python3",
      "display_name": "Python 3"
    },
    "language_info": {
      "name": "python"
    }
  },
  "cells": [
    {
      "cell_type": "markdown",
      "metadata": {
        "id": "N1ok_-56OjB1"
      },
      "source": [
        "# I Solving the Sum of Two Digits Programming Challenge"
      ]
    },
    {
      "cell_type": "markdown",
      "metadata": {
        "id": "MMY7kmDSO0KM"
      },
      "source": [
        "## C++"
      ]
    },
    {
      "cell_type": "code",
      "metadata": {
        "colab": {
          "base_uri": "https://localhost:8080/"
        },
        "id": "2pGGf9BkPNIk",
        "outputId": "7761f9d2-b8ce-45bb-ba60-09fda3c8aeeb"
      },
      "source": [
        "%%writefile APlusB.cpp\n",
        "#include <iostream>\n",
        "\n",
        "int sum_of_two_digits(int first_digit, int second_digit) {\n",
        "    return first_digit + second_digit;\n",
        "}\n",
        "\n",
        "int main() {\n",
        "    int a = 0;\n",
        "    int b = 0;\n",
        "    std::cin >> a;\n",
        "    std::cin >> b;\n",
        "    std::cout << sum_of_two_digits(a, b);\n",
        "    return 0;\n",
        "}"
      ],
      "execution_count": null,
      "outputs": [
        {
          "output_type": "stream",
          "name": "stdout",
          "text": [
            "Writing APlusB.cpp\n"
          ]
        }
      ]
    },
    {
      "cell_type": "code",
      "metadata": {
        "colab": {
          "base_uri": "https://localhost:8080/"
        },
        "id": "0G3ZKOYAPXSU",
        "outputId": "adef6727-57e3-480f-f1e1-385121f893b3"
      },
      "source": [
        "!g++ APlusB.cpp -o APlusB\n",
        "!./APlusB"
      ],
      "execution_count": null,
      "outputs": [
        {
          "output_type": "stream",
          "name": "stdout",
          "text": [
            "^C\n"
          ]
        }
      ]
    },
    {
      "cell_type": "markdown",
      "metadata": {
        "id": "iNkG2HqfTl9c"
      },
      "source": [
        "### Test input output files"
      ]
    },
    {
      "cell_type": "code",
      "metadata": {
        "colab": {
          "base_uri": "https://localhost:8080/"
        },
        "id": "aTzU2efzMxly",
        "outputId": "d9e19aea-35d6-4b29-cfe7-6b955d7ddf39"
      },
      "source": [
        "%%writefile input1.txt\n",
        "4 8"
      ],
      "execution_count": null,
      "outputs": [
        {
          "output_type": "stream",
          "name": "stdout",
          "text": [
            "Writing input1.txt\n"
          ]
        }
      ]
    },
    {
      "cell_type": "markdown",
      "source": [],
      "metadata": {
        "id": "eGzbLFcUO_st"
      }
    },
    {
      "cell_type": "code",
      "metadata": {
        "colab": {
          "base_uri": "https://localhost:8080/"
        },
        "id": "zBJ0Gc0NQRet",
        "outputId": "ad71ea10-2a1c-4b22-f903-78aa521adb0d"
      },
      "source": [
        "%%writefile output1.txt\n",
        "12"
      ],
      "execution_count": null,
      "outputs": [
        {
          "output_type": "stream",
          "name": "stdout",
          "text": [
            "Writing output1.txt\n"
          ]
        }
      ]
    },
    {
      "cell_type": "code",
      "metadata": {
        "colab": {
          "base_uri": "https://localhost:8080/"
        },
        "id": "IjEcIx63PJAN",
        "outputId": "3b809795-0b0e-4621-df80-3a108ddd359e"
      },
      "source": [
        "%%writefile input2.txt\n",
        "-5 9"
      ],
      "execution_count": null,
      "outputs": [
        {
          "output_type": "stream",
          "name": "stdout",
          "text": [
            "Writing input2.txt\n"
          ]
        }
      ]
    },
    {
      "cell_type": "code",
      "metadata": {
        "colab": {
          "base_uri": "https://localhost:8080/"
        },
        "id": "Up9gOrxURTmd",
        "outputId": "90996721-33c8-4aed-aa7c-ba687be04fdf"
      },
      "source": [
        "%%writefile output2.txt\n",
        "4"
      ],
      "execution_count": null,
      "outputs": [
        {
          "output_type": "stream",
          "name": "stdout",
          "text": [
            "Writing output2.txt\n"
          ]
        }
      ]
    },
    {
      "cell_type": "code",
      "metadata": {
        "colab": {
          "base_uri": "https://localhost:8080/"
        },
        "id": "PST6G-s-Pwgc",
        "outputId": "6ad8f0dc-1cd5-4062-9855-47ff390b1423"
      },
      "source": [
        "!./APlusB < input1.txt"
      ],
      "execution_count": null,
      "outputs": [
        {
          "output_type": "stream",
          "name": "stdout",
          "text": [
            "12"
          ]
        }
      ]
    },
    {
      "cell_type": "code",
      "metadata": {
        "colab": {
          "base_uri": "https://localhost:8080/"
        },
        "id": "cKxZOjSlRfIN",
        "outputId": "49e14d56-3c4a-41bb-cb5c-286dfece418c"
      },
      "source": [
        "!./APlusB < input2.txt"
      ],
      "execution_count": null,
      "outputs": [
        {
          "output_type": "stream",
          "name": "stdout",
          "text": [
            "4"
          ]
        }
      ]
    },
    {
      "cell_type": "markdown",
      "metadata": {
        "id": "Qw2TQWCCUwqk"
      },
      "source": [
        "### Comparing files with grep\n",
        "\n",
        "https://askubuntu.com/questions/546796/comparing-two-text-files"
      ]
    },
    {
      "cell_type": "code",
      "metadata": {
        "id": "WVIaAmMKU4QM"
      },
      "source": [
        "!grep -xvFf output1.txt output1.txt "
      ],
      "execution_count": null,
      "outputs": []
    },
    {
      "cell_type": "code",
      "metadata": {
        "colab": {
          "base_uri": "https://localhost:8080/"
        },
        "id": "MQU8gPPjQuYO",
        "outputId": "50f3ccaf-18e9-4cbd-83a8-eba367ac4288"
      },
      "source": [
        "!grep -xvFf output1.txt output2.txt "
      ],
      "execution_count": null,
      "outputs": [
        {
          "output_type": "stream",
          "name": "stdout",
          "text": [
            "4\n"
          ]
        }
      ]
    },
    {
      "cell_type": "code",
      "metadata": {
        "colab": {
          "base_uri": "https://localhost:8080/"
        },
        "id": "jYL9OuYBTD_l",
        "outputId": "2866002e-3315-4db8-de63-f94b7ee6563e"
      },
      "source": [
        "!grep -xvFf output2.txt output1.txt "
      ],
      "execution_count": null,
      "outputs": [
        {
          "output_type": "stream",
          "name": "stdout",
          "text": [
            "12\n"
          ]
        }
      ]
    },
    {
      "cell_type": "code",
      "metadata": {
        "id": "Jlja0Xm4TX9M"
      },
      "source": [
        "!./APlusB < input1.txt> ctest1.txt\n",
        "!grep -xvFf output1.txt ctest1.txt"
      ],
      "execution_count": null,
      "outputs": []
    },
    {
      "cell_type": "code",
      "metadata": {
        "id": "g9OIUZA_QLCQ"
      },
      "source": [
        "!./APlusB < input2.txt > ctest2.txt\n",
        "!grep -xvFf output2.txt ctest2.txt"
      ],
      "execution_count": null,
      "outputs": []
    },
    {
      "cell_type": "markdown",
      "metadata": {
        "id": "3BgOaDjUVJk6"
      },
      "source": [
        "## Python"
      ]
    },
    {
      "cell_type": "code",
      "metadata": {
        "colab": {
          "base_uri": "https://localhost:8080/"
        },
        "id": "DBvl-T0CTN_8",
        "outputId": "9d0843b0-9789-414a-b05c-eba1822d88cd"
      },
      "source": [
        "%%writefile sum.py\n",
        "# python3\n",
        "\n",
        "def sum_of_two_digits(first_digit, second_digit):\n",
        "    return first_digit + second_digit\n",
        "\n",
        "if __name__ == '__main__':\n",
        "    a, b = map(int, input().split())\n",
        "    print(sum_of_two_digits(a, b))"
      ],
      "execution_count": null,
      "outputs": [
        {
          "output_type": "stream",
          "name": "stdout",
          "text": [
            "Writing sum.py\n"
          ]
        }
      ]
    },
    {
      "cell_type": "code",
      "metadata": {
        "colab": {
          "base_uri": "https://localhost:8080/"
        },
        "id": "QKoKM11_WGyF",
        "outputId": "0134466e-ea56-41f4-ebe2-6a5f2c278749"
      },
      "source": [
        "!python sum.py"
      ],
      "execution_count": null,
      "outputs": [
        {
          "output_type": "stream",
          "name": "stdout",
          "text": [
            "Traceback (most recent call last):\n",
            "  File \"/content/sum.py\", line 7, in <module>\n",
            "    a, b = map(int, input().split())\n",
            "KeyboardInterrupt\n",
            "^C\n"
          ]
        }
      ]
    },
    {
      "cell_type": "code",
      "metadata": {
        "id": "cocFbPRTWrqt"
      },
      "source": [
        "!python sum.py  < input1.txt> ptest1.txt\n",
        "!grep -xvFf output1.txt ptest1.txt"
      ],
      "execution_count": null,
      "outputs": []
    },
    {
      "cell_type": "code",
      "metadata": {
        "id": "MorKTa-XXASN"
      },
      "source": [
        "!python sum.py  < input2.txt> ptest2.txt\n",
        "!grep -xvFf output2.txt ptest2.txt"
      ],
      "execution_count": null,
      "outputs": []
    },
    {
      "cell_type": "markdown",
      "metadata": {
        "id": "uvP-mOubW_5F"
      },
      "source": [
        "# II Solving The Maximum Pairwise Product Programming Challenge in C++"
      ]
    },
    {
      "cell_type": "markdown",
      "metadata": {
        "id": "C12yoFR6Xonl"
      },
      "source": [
        "## C++"
      ]
    },
    {
      "cell_type": "code",
      "metadata": {
        "colab": {
          "base_uri": "https://localhost:8080/"
        },
        "id": "YL4qJX3tXxdd",
        "outputId": "6a67000f-4737-40b2-8467-cc8a1718f9d2"
      },
      "source": [
        "%%writefile max_pairwise_product.cpp\n",
        "#include <iostream>\n",
        "#include <vector>\n",
        "#include <algorithm>\n",
        "\n",
        "int MaxPairwiseProduct(const std::vector<int>& numbers) {\n",
        "    int max_product = 0;\n",
        "    int n = numbers.size();\n",
        "\n",
        "    for (int first = 0; first < n; ++first) {\n",
        "        for (int second = first + 1; second < n; ++second) {\n",
        "            max_product = std::max(max_product,\n",
        "                numbers[first] * numbers[second]);\n",
        "        }\n",
        "    }\n",
        "\n",
        "    return max_product;\n",
        "}\n",
        "\n",
        "int main() {\n",
        "    int n;\n",
        "    std::cin >> n;\n",
        "    std::vector<int> numbers(n);\n",
        "    for (int i = 0; i < n; ++i) {\n",
        "        std::cin >> numbers[i];\n",
        "    }\n",
        "\n",
        "    std::cout << MaxPairwiseProduct(numbers) << \"\\n\";\n",
        "    return 0;\n",
        "}\n"
      ],
      "execution_count": null,
      "outputs": [
        {
          "output_type": "stream",
          "name": "stdout",
          "text": [
            "Writing max_pairwise_product.cpp\n"
          ]
        }
      ]
    },
    {
      "cell_type": "code",
      "metadata": {
        "colab": {
          "base_uri": "https://localhost:8080/"
        },
        "id": "KGxaEjvWX__O",
        "outputId": "59b20b9c-089f-4b07-b392-b7624bc48f4a"
      },
      "source": [
        "!g++ max_pairwise_product.cpp -o max_pairwise_product\n",
        "!./max_pairwise_product"
      ],
      "execution_count": null,
      "outputs": [
        {
          "output_type": "stream",
          "name": "stdout",
          "text": [
            "^C\n"
          ]
        }
      ]
    },
    {
      "cell_type": "markdown",
      "metadata": {
        "id": "e7KhxHGNS3i0"
      },
      "source": [
        "### Test 1: Small numbers"
      ]
    },
    {
      "cell_type": "code",
      "metadata": {
        "colab": {
          "base_uri": "https://localhost:8080/"
        },
        "id": "e1mmTzBgShT-",
        "outputId": "b5ba3f70-44ac-4791-8858-cf362e179849"
      },
      "source": [
        "%%writefile input1.txt\n",
        "10\n",
        "1 2 3 4 5 6 7 8 9 10"
      ],
      "execution_count": null,
      "outputs": [
        {
          "output_type": "stream",
          "name": "stdout",
          "text": [
            "Overwriting input1.txt\n"
          ]
        }
      ]
    },
    {
      "cell_type": "code",
      "metadata": {
        "colab": {
          "base_uri": "https://localhost:8080/"
        },
        "id": "vy_uI0x7TCId",
        "outputId": "9a5944c8-702e-4362-e0d2-2c4069fc7c78"
      },
      "source": [
        "!./max_pairwise_product < input1.txt"
      ],
      "execution_count": null,
      "outputs": [
        {
          "output_type": "stream",
          "name": "stdout",
          "text": [
            "90\n"
          ]
        }
      ]
    },
    {
      "cell_type": "markdown",
      "metadata": {
        "id": "IeZ3kTjpYmR9"
      },
      "source": [
        "### Test 2: largest input numbers 200000 200000 in the input"
      ]
    },
    {
      "cell_type": "code",
      "metadata": {
        "colab": {
          "base_uri": "https://localhost:8080/"
        },
        "id": "LQNlZqaqYt7U",
        "outputId": "f4126b89-a306-4835-d192-02c02dae7aff"
      },
      "source": [
        "%%writefile input2.txt\n",
        "6\n",
        "1 3 200000 9 200000 23"
      ],
      "execution_count": null,
      "outputs": [
        {
          "output_type": "stream",
          "name": "stdout",
          "text": [
            "Overwriting input2.txt\n"
          ]
        }
      ]
    },
    {
      "cell_type": "code",
      "metadata": {
        "colab": {
          "base_uri": "https://localhost:8080/"
        },
        "id": "2Wad2VZUZDxR",
        "outputId": "63df74c9-850e-484f-9cff-83e67f63c7de"
      },
      "source": [
        "!./max_pairwise_product < input2.txt"
      ],
      "execution_count": null,
      "outputs": [
        {
          "output_type": "stream",
          "name": "stdout",
          "text": [
            "1345294336\n"
          ]
        }
      ]
    },
    {
      "cell_type": "markdown",
      "metadata": {
        "id": "H2SC0Qt5HCzz"
      },
      "source": [
        "Changing the variables to long long and conpare equal numbers"
      ]
    },
    {
      "cell_type": "code",
      "metadata": {
        "colab": {
          "base_uri": "https://localhost:8080/"
        },
        "id": "MPcmsxiQZSfE",
        "outputId": "8fb23a96-4fcb-4ca5-9bc3-98eb193bea21"
      },
      "source": [
        "%%writefile max_pairwise_product_long.cpp\n",
        "#include <iostream>\n",
        "#include <vector>\n",
        "#include <algorithm>\n",
        "\n",
        "long long MaxPairwiseProduct(const std::vector<int>& numbers) {\n",
        "    long long max_product = 0LL;\n",
        "\t  long long aux_product = 0LL;\n",
        "    int n = numbers.size();\n",
        "\n",
        "    for (int first = 0; first < n; ++first) {\n",
        "        for (int second = first + 1; second < n; ++second) {\n",
        "          if(numbers[first] != numbers[second]){\n",
        "            aux_product =  (long long) numbers[first] * numbers[second];\n",
        "            if ( max_product < aux_product)  {\n",
        "\t\t\t\t        max_product = aux_product;\n",
        "             }\n",
        "          }\n",
        "\t\t\t       \n",
        "        }\n",
        "    }\n",
        "\n",
        "    return max_product;\n",
        "}\n",
        "\n",
        "int main() {\n",
        "    int n;\n",
        "    std::cin >> n;\n",
        "    std::vector<int> numbers(n);\n",
        "    for (int i = 0; i < n; ++i) {\n",
        "        std::cin >> numbers[i];\n",
        "    }\n",
        "\n",
        "    std::cout << MaxPairwiseProduct(numbers) << \"\\n\";\n",
        "    return 0;\n",
        "}\n"
      ],
      "execution_count": null,
      "outputs": [
        {
          "output_type": "stream",
          "name": "stdout",
          "text": [
            "Writing max_pairwise_product_long.cpp\n"
          ]
        }
      ]
    },
    {
      "cell_type": "code",
      "metadata": {
        "colab": {
          "base_uri": "https://localhost:8080/"
        },
        "id": "I5pCeOG1Zm7s",
        "outputId": "96dfabb8-a8ca-4c21-b4df-541e9b572141"
      },
      "source": [
        "!g++ max_pairwise_product_long.cpp -o max_pairwise_product_long\n",
        "!./max_pairwise_product_long < input1.txt\n",
        "!./max_pairwise_product_long < input2.txt"
      ],
      "execution_count": null,
      "outputs": [
        {
          "output_type": "stream",
          "name": "stdout",
          "text": [
            "90\n",
            "4600000\n"
          ]
        }
      ]
    },
    {
      "cell_type": "markdown",
      "metadata": {
        "id": "XPVHkHxH6_7s"
      },
      "source": [
        "### Test 3  stress tests 20  times  random n in [2, 20] "
      ]
    },
    {
      "cell_type": "code",
      "metadata": {
        "id": "PwqpBmYr69fu",
        "colab": {
          "base_uri": "https://localhost:8080/"
        },
        "outputId": "1a932543-63c3-40f0-fc4e-740ab19d2c81"
      },
      "source": [
        "%%writefile test3.cpp\n",
        "#include <iostream>\n",
        "#include <vector>\n",
        "#include <algorithm>\n",
        "\n",
        "\n",
        "using namespace std;\n",
        "\n",
        "long long MaxPairwiseProduct(const std::vector<int>& numbers) {\n",
        "    long long max_product = 0LL;\n",
        "\t  long long aux_product = 0LL;\n",
        "    int n = numbers.size();\n",
        "\n",
        "    for (int first = 0; first < n; ++first) {\n",
        "        for (int second = first + 1; second < n; ++second) {\n",
        "          if(numbers[first] != numbers[second]){\n",
        "            aux_product =  (long long) numbers[first] * numbers[second];\n",
        "            if ( max_product < aux_product)  {\n",
        "\t\t\t\t        max_product = aux_product;\n",
        "             }\n",
        "          }\n",
        "\t\t\t       \n",
        "        }\n",
        "    }\n",
        "\n",
        "    return max_product;\n",
        "}\n",
        "\n",
        "int main(){\n",
        "  srand(time(NULL));\n",
        "  for (int i = 0 ; i < 20; i ++){\n",
        "    int tamano = rand()%19 +2 ;\n",
        "    std::vector <int> numeros(tamano); \n",
        "    for (int j = 0; j < tamano ; j++){\n",
        "      numeros[j] = rand()%10;\n",
        "    }\n",
        "    cout<<MaxPairwiseProduct(numeros)<<endl;\n",
        "  }\n",
        "}"
      ],
      "execution_count": null,
      "outputs": [
        {
          "output_type": "stream",
          "name": "stdout",
          "text": [
            "Writing test3.cpp\n"
          ]
        }
      ]
    },
    {
      "cell_type": "code",
      "source": [
        "!g++ test3.cpp -o test3\n",
        "!./test3"
      ],
      "metadata": {
        "colab": {
          "base_uri": "https://localhost:8080/"
        },
        "id": "KrYS4HNRS-6b",
        "outputId": "0d41ac44-1dab-4048-c817-b56b06c1d58e"
      },
      "execution_count": null,
      "outputs": [
        {
          "output_type": "stream",
          "name": "stdout",
          "text": [
            "72\n",
            "72\n",
            "72\n",
            "72\n",
            "72\n",
            "56\n",
            "72\n",
            "48\n",
            "72\n",
            "72\n",
            "42\n",
            "72\n",
            "72\n",
            "72\n",
            "56\n",
            "56\n",
            "48\n",
            "9\n",
            "72\n",
            "20\n"
          ]
        }
      ]
    },
    {
      "cell_type": "markdown",
      "metadata": {
        "id": "9z9yr5QkeyJF"
      },
      "source": [
        "### Test 4  time test  measure the execution time running with the the largest worst case file (200000 increasing numbers, 200000 and 200000 the end) "
      ]
    },
    {
      "cell_type": "code",
      "metadata": {
        "id": "oLiMjbAIfPlX",
        "colab": {
          "base_uri": "https://localhost:8080/"
        },
        "outputId": "a34914c3-c06a-48c7-ba00-2cbaf0c0b9ce"
      },
      "source": [
        "%%writefile Test2Write.cpp\n",
        "\n",
        "#include <iostream>\n",
        "#include <fstream>\n",
        "#include <cstdlib>\n",
        "\n",
        "using namespace std;\n",
        "\n",
        "int main() {\n",
        "  // Create and open a text file\n",
        "  ofstream MyFile(\"input3.txt\");\n",
        "\n",
        " MyFile << 200000 <<\"\\n\";  // n \n",
        " for (int i=1; i < 200001; i++){\n",
        "     MyFile << i <<\" \";\n",
        " }\n",
        "  \n",
        "  // Close the file\n",
        "  MyFile.close();\n",
        "}"
      ],
      "execution_count": null,
      "outputs": [
        {
          "output_type": "stream",
          "name": "stdout",
          "text": [
            "Writing Test2Write.cpp\n"
          ]
        }
      ]
    },
    {
      "cell_type": "code",
      "metadata": {
        "id": "EH25TkOkZfD9"
      },
      "source": [
        "!g++ Test2Write.cpp -o Test2Write\n",
        "!./Test2Write"
      ],
      "execution_count": null,
      "outputs": []
    },
    {
      "cell_type": "markdown",
      "metadata": {
        "id": "JB6f03qO-lj9"
      },
      "source": [
        "Measure time\n",
        "\n",
        "https://askubuntu.com/questions/53444/how-can-i-measure-the-execution-time-of-a-terminal-process"
      ]
    },
    {
      "cell_type": "code",
      "metadata": {
        "colab": {
          "base_uri": "https://localhost:8080/"
        },
        "id": "6p2QLEr576zk",
        "outputId": "207b222d-bf36-41c2-d726-008f32aacb21"
      },
      "source": [
        "!g++ max_pairwise_product_long.cpp -o max_pairwise_product_long\n",
        "!time ./max_pairwise_product_long < input3.txt"
      ],
      "execution_count": null,
      "outputs": [
        {
          "output_type": "stream",
          "name": "stdout",
          "text": [
            "^C\n"
          ]
        }
      ]
    },
    {
      "cell_type": "markdown",
      "metadata": {
        "id": "AmZeB2wYjxy5"
      },
      "source": [
        "##### Calculate  the number of instructions executed by the algorithm as a function of n, add in each line a comment with the number of instructions that are executed in that line \n",
        "\n",
        "```cpp\n",
        " int main() {                         //N inst exec by line executed  \n",
        "   \n",
        "    int n;                            //1                      \n",
        "    std::cin >> n;                    //1\n",
        "                                              \n",
        "    std::vector<int> numbers(n);      //n    init vector\n",
        "    .\n",
        "    .\n",
        " }\n",
        "\n",
        "```"
      ]
    },
    {
      "cell_type": "code",
      "metadata": {
        "colab": {
          "base_uri": "https://localhost:8080/"
        },
        "id": "djGX3FL13g9b",
        "outputId": "de201478-b88a-4d90-e51b-af84cab550d3"
      },
      "source": [
        "%%writefile test_init_vectors.cpp\n",
        "#include <iostream>\n",
        "#include <vector>\n",
        "#include <algorithm>\n",
        "int main() {                                                               \n",
        "    int n = 10;                      //1\n",
        "    std::vector<int> numbers(n);     //n                                       \n",
        "    for (int i = 0; i < n; ++i) {    //n                                      \n",
        "        std::cout << numbers[i];     //1                                        \n",
        "    }\n",
        "\n",
        "    std::cout << \"\\n\";               //1       \n",
        "    return 0;                        //1                                      \n",
        "}                                    //1+n+(1*n)+1+1 = 2n+3 = O()"
      ],
      "execution_count": null,
      "outputs": [
        {
          "output_type": "stream",
          "name": "stdout",
          "text": [
            "Writing test_init_vectors.cpp\n"
          ]
        }
      ]
    },
    {
      "cell_type": "code",
      "metadata": {
        "colab": {
          "base_uri": "https://localhost:8080/"
        },
        "id": "44gZcuE237-1",
        "outputId": "23eb2f36-022e-410a-e013-133c516937d5"
      },
      "source": [
        "!g++ test_init_vectors.cpp -o test_init_vectors\n",
        "!./test_init_vectors"
      ],
      "execution_count": null,
      "outputs": [
        {
          "output_type": "stream",
          "name": "stdout",
          "text": [
            "0000000000\n"
          ]
        }
      ]
    },
    {
      "cell_type": "code",
      "metadata": {
        "colab": {
          "base_uri": "https://localhost:8080/"
        },
        "id": "uG6Mv-Pwlkii",
        "outputId": "1cbe3443-fc3a-4adb-8670-900822ea24bc"
      },
      "source": [
        "%%writefile max_pairwise_product_long.cpp\n",
        "#include <iostream>\n",
        "#include <vector>\n",
        "#include <algorithm>\n",
        "\n",
        "long long MaxPairwiseProduct(const std::vector<int>& numbers) {              //N inst exec by line executed \n",
        "    long long max_product = 0LL;                                             //1                                          \n",
        "\t  long long aux_product = 0LL;                                             //1 \n",
        "    int n = numbers.size();                                                  //1 \n",
        "                                                                             \n",
        "    for (int first = 0; first < n; ++first) {                                //1+2n  \n",
        "        for (int second = first + 1; second < n; ++second) {                 //n + (n-1)n \n",
        "\t\t\t       aux_product =  (long long) numbers[first] * numbers[second];    //(n-1)n/2 \n",
        "            if (max_product < aux_product)  {                                //(n-1)n/2 \n",
        "\t\t\t\t        max_product = aux_product;                                   //[0, (n-1)n/2] \n",
        "             }\n",
        "        }\n",
        "    }\n",
        "                                                                             // -------------- \n",
        "    return max_product;                                                      // 4 + 3n + [2(n-1)n, 2.5 (n-1)n] \n",
        "}\n",
        "\n",
        "int main() {                                              //N inst exec by line executed \n",
        "    int n;                                                //1  \n",
        "    std::cin >> n;                                        //1\n",
        "    std::vector<int> numbers(n);                          //n\n",
        "    for (int i = 0; i < n; ++i) {                         //1 + 2n\n",
        "        std::cin >> numbers[i];                           //n\n",
        "    }\n",
        "\n",
        "    std::cout << MaxPairwiseProduct(numbers) << \"\\n\";     //1 + 1  + 4 + 3n + [2(n-1)n, 2.5 (n-1)n]\n",
        "    return 0;                                             // -------------- \n",
        "}                                                         // 9 + 7n + [2(n-1)n, 2.5 (n-1)n]\n"
      ],
      "execution_count": null,
      "outputs": [
        {
          "output_type": "stream",
          "name": "stdout",
          "text": [
            "Overwriting max_pairwise_product_long.cpp\n"
          ]
        }
      ]
    },
    {
      "cell_type": "markdown",
      "metadata": {
        "id": "0vTsUg8OwcHs"
      },
      "source": [
        "Count executed intructions in code and verify with inputs 1, 2 and 3"
      ]
    },
    {
      "cell_type": "code",
      "metadata": {
        "colab": {
          "base_uri": "https://localhost:8080/"
        },
        "id": "CuRKkqQc137V",
        "outputId": "e2c5912d-64ad-4be5-8bdc-ce3132a4900c"
      },
      "source": [
        "%%writefile max_pairwise_product_long_execints.cpp\n",
        "#include <iostream>\n",
        "#include <vector>\n",
        "#include <algorithm>\n",
        "\n",
        "long long MaxPairwiseProduct(const std::vector<int>& numbers, long long &execints) {              //N inst exec by line executed \n",
        "    \n",
        "    long long m = 0LL;                                                       //1\n",
        "    \n",
        "    long long max_product = 0LL;                                             //1\n",
        "    execints++;\n",
        "\n",
        "\t  long long aux_product = 0LL;                                             //1\n",
        "    execints++;\n",
        "\n",
        "    int n = numbers.size();                                                  //1 \n",
        "    execints++;\n",
        "\n",
        "    execints++;                                                                         \n",
        "    for (int first = 0; first < n; ++first) {                                //1+2n  \n",
        "        execints += 2;\n",
        "\n",
        "        long long m = 0LL;\n",
        "\n",
        "        execints++;                                    \n",
        "        for (int second = first + 1; second < n; ++second) {                 //n+ (n-1)n \n",
        "            execints += 2;                                                \n",
        "\n",
        "\t\t\t      aux_product =  (long long) numbers[first] * numbers[second];    //(n-1)n/2 \n",
        "            execints++; \n",
        "\n",
        "            execints++; \n",
        "            if ( max_product < aux_product)  {                               //(n-1)n/2 \n",
        "                       \n",
        "\t\t\t\t        max_product = aux_product;                                   //[0, (n-1)n/2] \n",
        "                execints++; \n",
        "                m++;\n",
        "             }\n",
        "        }\n",
        "        if ( (first <= 10) || (n- first <= 10)) std::cout << m << \"\\n\";\n",
        "    }\n",
        "                                                                            // -------------- \n",
        "    return max_product;                                                     // 4 + 3n + [2(n-1)n, 2.5 (n-1)n] \n",
        "}\n",
        "\n",
        "int main() {                                                 //N inst exec by line executed \n",
        "    long long execints =0LL;\n",
        "\n",
        "    int n;                                                   //1\n",
        "    execints++;                                                              \n",
        "    \n",
        "    std::cin >> n;                                           //1\n",
        "    execints++;\n",
        "\n",
        "    std::vector<int> numbers(n);                             //n\n",
        "    execints += n;\n",
        "    \n",
        "    execints++;\n",
        "    for (int i = 0; i < n; ++i) {                            //1 + 2n\n",
        "        execints += 2;\n",
        "\n",
        "        std::cin >> numbers[i];\n",
        "        execints++;                                          //n\n",
        "    }\n",
        "    \n",
        "    //std::cout << MaxPairwiseProduct(numbers) << \"\\n\";      //1 + 1  + 4 + 3n + [2(n-1)n, 2.5 (n-1)n]\n",
        "\n",
        "    execints++;\n",
        "    int M = MaxPairwiseProduct(numbers,execints);\n",
        "\n",
        "    execints++;\n",
        "    std::cout <<  execints << \"\\n\";                       \n",
        "    return 0;                                                // -------------- \n",
        "}                                                            // 9 + 7n + [2(n-1)n, 2.5 (n-1)n]"
      ],
      "execution_count": null,
      "outputs": [
        {
          "output_type": "stream",
          "name": "stdout",
          "text": [
            "Writing max_pairwise_product_long_execints.cpp\n"
          ]
        }
      ]
    },
    {
      "cell_type": "code",
      "metadata": {
        "colab": {
          "base_uri": "https://localhost:8080/"
        },
        "id": "Kuvm1C05ly2a",
        "outputId": "68a191b3-9469-4070-b33c-8541fde29bf5"
      },
      "source": [
        "!g++ max_pairwise_product_long_execints.cpp -o max_pairwise_product_long_execints\n",
        "!./max_pairwise_product_long_execints < input1.txt\n",
        "!./max_pairwise_product_long_execints < input2.txt\n",
        "!./max_pairwise_product_long_execints < input3.txt"
      ],
      "execution_count": null,
      "outputs": [
        {
          "output_type": "stream",
          "name": "stdout",
          "text": [
            "9\n",
            "5\n",
            "4\n",
            "3\n",
            "2\n",
            "2\n",
            "2\n",
            "2\n",
            "1\n",
            "0\n",
            "289\n",
            "2\n",
            "1\n",
            "2\n",
            "0\n",
            "0\n",
            "0\n",
            "116\n",
            "199999\n",
            "100000\n",
            "66667\n",
            "50000\n",
            "40000\n",
            "33334\n",
            "28572\n",
            "25000\n",
            "22223\n",
            "20000\n",
            "18182\n",
            "2\n",
            "2\n",
            "2\n",
            "2\n",
            "2\n",
            "2\n",
            "2\n",
            "2\n",
            "1\n",
            "0\n",
            "80003672077\n"
          ]
        }
      ]
    },
    {
      "cell_type": "markdown",
      "metadata": {
        "id": "L_uaamxeAHK7"
      },
      "source": [
        "The number of instructions executed by the algooirithm with a list of size $n$ is  \n",
        "\n",
        "$$T = 9 + 7n + [2(n-1)n, 2.5 (n-1)n]$$\n",
        "\n",
        "It depends on the size of the lists and  the order of the list.\n",
        "\n",
        "For the input1.txt \n",
        "```\n",
        "10\n",
        "1 2 3 4 5 6 7 8 9 10\n",
        "```\n",
        "$$T = 9 + 7(10) + 2(9)(10) +  9 + 5 + 4 + 3 + 2 + 2 + 2 + 2 + 1 + 0  = 289 $$\n",
        "\n",
        "For the input2.txt \n",
        "```\n",
        "6\n",
        "1 3 200000 9 200000 23\n",
        "```\n",
        "$$T = 9 + 7(6) + 2(5)(6)  +  2 + 1 + 2 + 0 + 0 + 0 = 116 $$\n",
        "\n",
        "\n",
        "For the input3.txt that is the worst case (n=200000 and list in incresing order)\n",
        "\n",
        "```\n",
        "200000\n",
        "1 2 3 4 5 6 7 8 9 10 ... 199998 199999 200000\n",
        "```\n",
        "\n",
        "$$\n",
        "\\begin{array}{ll}\n",
        "T &= 9 + 7(200000) + (2)(199999)(200000)  + (199999 +\n",
        "100000 + 66667 +50000 \\cdots 2 + 2 + 1)\\\\\n",
        "&= 80003672077  \\\\\n",
        "  &< 9 + 7(200000) + (2.5)(199999)(200000) \\\\\n",
        "  & = 100000900009\n",
        "\\end{array}\n",
        "  $$"
      ]
    },
    {
      "cell_type": "markdown",
      "metadata": {
        "id": "NXW7QkoBL6xH"
      },
      "source": [
        "Calculate estimated time by instruction and number of instructions by second"
      ]
    },
    {
      "cell_type": "code",
      "metadata": {
        "colab": {
          "base_uri": "https://localhost:8080/"
        },
        "id": "pKqB3i7dIxnc",
        "outputId": "f8d28188-1861-4dbc-8505-242236d5b7fb"
      },
      "source": [
        "# Estimated time by instruction\n",
        "\n",
        "128/80003672077 \n"
      ],
      "execution_count": null,
      "outputs": [
        {
          "output_type": "execute_result",
          "data": {
            "text/plain": [
              "1.5999265618308827e-09"
            ]
          },
          "metadata": {},
          "execution_count": 36
        }
      ]
    },
    {
      "cell_type": "code",
      "metadata": {
        "colab": {
          "base_uri": "https://localhost:8080/"
        },
        "id": "18N1ouqeMhE1",
        "outputId": "a8cf62f4-9a6b-4385-dc45-87dfa56bbef6"
      },
      "source": [
        "# Estimated number of instructions by second\n",
        "\n",
        "1/(128/80003672077) "
      ],
      "execution_count": null,
      "outputs": [
        {
          "output_type": "execute_result",
          "data": {
            "text/plain": [
              "625028688.1015625"
            ]
          },
          "metadata": {},
          "execution_count": 37
        }
      ]
    },
    {
      "cell_type": "markdown",
      "metadata": {
        "id": "CQufozXLNJwO"
      },
      "source": [
        "### Efficient solution"
      ]
    },
    {
      "cell_type": "markdown",
      "metadata": {
        "id": "nLcKBwbU0QsE"
      },
      "source": [
        "Add in each line a coment with the number of intstrcution that are executed in that line"
      ]
    },
    {
      "cell_type": "code",
      "metadata": {
        "id": "knls5Fh3NSt_",
        "colab": {
          "base_uri": "https://localhost:8080/"
        },
        "outputId": "eb71b85c-3877-4441-b8ff-f40c59febfdc"
      },
      "source": [
        "%%writefile max_pairwise_product_long_execints.cpp\n",
        "#include <iostream>\n",
        "#include <vector>\n",
        "#include <algorithm>\n",
        "\n",
        "using namespace std;\n",
        "long long MaxPairwiseProduct(const std::vector<int>& numbers, long long &execints) {              //N inst exec by line executed \n",
        "    \n",
        "    long long m = 0LL;                                                       //1\n",
        "    execints++;\n",
        "\n",
        "    long long max_product = (long long)numbers[0];                           //1\n",
        "    execints++;\n",
        "\n",
        "\t  long long aux_product = 0LL;                                             //1\n",
        "    execints++;\n",
        "\n",
        "    int n = numbers.size();                                                  //1 \n",
        "    execints++;\n",
        "\n",
        "    execints++;                                                                         \n",
        "    for (int first = 1; first < n; ++first) {                                //1+2n\n",
        "        execints+=2;\n",
        "\n",
        "        long long aux = std::max(max_product,(long long)numbers[first]);     //n\n",
        "        execints++;\n",
        "        long long aux1 = std::max(aux_product,(long long)numbers[first]);    //n\n",
        "        execints++;\n",
        "\n",
        "        if ( aux > max_product){                                             //n\n",
        "          aux_product = max_product;                                         //[0,n]\n",
        "          max_product = aux;                                                 //[0,n]\n",
        "          execints+=3;\n",
        "        }\n",
        "        if (aux1 > aux_product && aux1 != max_product){                     //n\n",
        "          aux_product = aux1;                                               //[0,n]]\n",
        "          execints+=2;\n",
        "        }\n",
        "\n",
        "    }\n",
        "    max_product = max_product*aux_product;                                 //1                                                           // -------------- \n",
        "    execints++;\n",
        "    return max_product;                                            // 5 + (1+2n) + 6n + 3[0,n]\n",
        "}\n",
        "\n",
        "int main() {\n",
        "    long long execints =0LL;                                 //1\n",
        "    execints++;\n",
        "\n",
        "    int n;                                                   //1\n",
        "    execints++;                                                              \n",
        "    \n",
        "    std::cin >> n;                                           //1\n",
        "    execints++;\n",
        "\n",
        "    std::vector<int> numbers(n);                             //n\n",
        "    execints += n;\n",
        "    \n",
        "    for (int i = 0; i < n; ++i) {                            //1 + 2n\n",
        "        execints += 2;\n",
        "\n",
        "        std::cin >> numbers[i];                              //n\n",
        "        execints++;\n",
        "    }\n",
        "    \n",
        "    int M = MaxPairwiseProduct(numbers,execints);            //5 + (1+2n) + 6n + 3[0,n]\n",
        "    execints++;\n",
        "    \n",
        "    std::cout <<  \"Execints \"<<execints << \"\\n\";                       \n",
        "    return 0;                                                // 10 + 12n + 3[0,n] \n",
        "} "
      ],
      "execution_count": null,
      "outputs": [
        {
          "output_type": "stream",
          "name": "stdout",
          "text": [
            "Overwriting max_pairwise_product_long_execints.cpp\n"
          ]
        }
      ]
    },
    {
      "cell_type": "markdown",
      "metadata": {
        "id": "-JCijbWxNSii"
      },
      "source": [
        "Test with inputs 1 and 2\n",
        "\n"
      ]
    },
    {
      "cell_type": "code",
      "metadata": {
        "id": "TrTGAfqlNVXT",
        "colab": {
          "base_uri": "https://localhost:8080/"
        },
        "outputId": "8bf3f01e-708a-4426-b503-cdb0321be9fe"
      },
      "source": [
        "!g++ max_pairwise_product_long_execints.cpp -o max_pairwise_product_long_execints\n",
        "!time ./max_pairwise_product_long_execints < input1.txt\n",
        "!time ./max_pairwise_product_long_execints < input2.txt "
      ],
      "execution_count": null,
      "outputs": [
        {
          "output_type": "stream",
          "name": "stdout",
          "text": [
            "Execints 113\n",
            "\n",
            "real\t0m0.001s\n",
            "user\t0m0.001s\n",
            "sys\t0m0.000s\n",
            "Execints 64\n",
            "\n",
            "real\t0m0.002s\n",
            "user\t0m0.001s\n",
            "sys\t0m0.000s\n"
          ]
        }
      ]
    },
    {
      "cell_type": "markdown",
      "metadata": {
        "id": "PRX51wADNR8b"
      },
      "source": [
        "Test and time it with input 3"
      ]
    },
    {
      "cell_type": "code",
      "source": [
        "!g++ max_pairwise_product_long_execints.cpp -o max_pairwise_product_long_execints\n",
        "!time ./max_pairwise_product_long_execints < input3.txt "
      ],
      "metadata": {
        "colab": {
          "base_uri": "https://localhost:8080/"
        },
        "id": "oKFMFSyYsn93",
        "outputId": "77affaa5-11c2-4f0a-c9a3-d5bf983cd7f3"
      },
      "execution_count": null,
      "outputs": [
        {
          "output_type": "stream",
          "name": "stdout",
          "text": [
            "Execints 2200003\n",
            "\n",
            "real\t0m0.053s\n",
            "user\t0m0.050s\n",
            "sys\t0m0.002s\n"
          ]
        }
      ]
    },
    {
      "cell_type": "markdown",
      "metadata": {
        "id": "rpdfs0_TNZJf"
      },
      "source": [
        "20 stress tests"
      ]
    },
    {
      "cell_type": "code",
      "source": [
        "%%writefile test3.cpp\n",
        "#include <iostream>\n",
        "#include <vector>\n",
        "#include <algorithm>\n",
        "\n",
        "using namespace std;\n",
        "\n",
        "long long MaxPairwiseProduct(const std::vector<int>& numbers, long long &execints) {              //N inst exec by line executed \n",
        "    \n",
        "    long long m = 0LL;                                                       //1\n",
        "    execints++;\n",
        "\n",
        "    long long max_product = (long long)numbers[0];                           //1\n",
        "    execints++;\n",
        "\n",
        "\t  long long aux_product = 0LL;                                             //1\n",
        "    execints++;\n",
        "\n",
        "    int n = numbers.size();                                                  //1 \n",
        "    execints++;\n",
        "\n",
        "    execints++;                                                                         \n",
        "    for (int first = 1; first < n; ++first) {                                //1+2n\n",
        "        execints+=2;\n",
        "\n",
        "        long long aux = std::max(max_product,(long long)numbers[first]);     //n\n",
        "        execints++;\n",
        "        long long aux1 = std::max(aux_product,(long long)numbers[first]);    //n\n",
        "        execints++;\n",
        "\n",
        "        if ( aux > max_product){                                             //n\n",
        "          aux_product = max_product;                                         //[0,n]\n",
        "          max_product = aux;                                                 //[0,n]\n",
        "          execints+=3;\n",
        "        }\n",
        "        if (aux1 > aux_product && aux1 != max_product){                     //n\n",
        "          aux_product = aux1;                                               //[0,n]]\n",
        "          execints+=2;\n",
        "        }\n",
        "\n",
        "    }\n",
        "    max_product = max_product*aux_product;                                 //1\n",
        "    execints++;\n",
        "    return max_product;                                            // 5 + (1+2n) + 6n + 3[0,n]\n",
        "}\n",
        "\n",
        "long long MaxPairwiseProductL(const std::vector<int>& numbers) {\n",
        "    long long max_product = 0LL;\n",
        "\t  long long aux_product = 0LL;\n",
        "    int n = numbers.size();\n",
        "\n",
        "    for (int first = 0; first < n; ++first) {\n",
        "        for (int second = first + 1; second < n; ++second) {\n",
        "          if(numbers[first] != numbers[second]){\n",
        "            aux_product =  (long long) numbers[first] * numbers[second];\n",
        "            if ( max_product < aux_product)  {\n",
        "\t\t\t\t        max_product = aux_product;\n",
        "             }\n",
        "          }\n",
        "\t\t\t       \n",
        "        }\n",
        "    }\n",
        "\n",
        "    return max_product;\n",
        "}\n",
        "\n",
        "int main(){\n",
        "  long long excints = 0LL;\n",
        "\n",
        "  srand(time(NULL));\n",
        "  excints++;\n",
        "  \n",
        "\n",
        "  for (int i = 0 ; i < 20; i ++){\n",
        "    excints+=2;\n",
        "    int tamano = rand()%19 +2 ;\n",
        "    excints++;\n",
        "\n",
        "    std::vector <int> numeros(tamano);\n",
        "    excints+=tamano;\n",
        "    for (int j = 0; j < tamano ; j++){\n",
        "      numeros[j] = rand()%10;\n",
        "      cout<< numeros[j] << \" \";\n",
        "      excints++;\n",
        "    }\n",
        "    cout<<endl;\n",
        "    int product1 = MaxPairwiseProduct(numeros,excints);\n",
        "    int product2 = MaxPairwiseProductL(numeros);\n",
        "\n",
        "    if (product1 == product2){\n",
        "      cout<<\"Ok\"<<endl;\n",
        "    }else{\n",
        "      cout<<\"Respuesta equivocada\"<<endl;\n",
        "    }\n",
        "  }\n",
        "  cout << \"Excints \" << excints << endl;\n",
        "}"
      ],
      "metadata": {
        "colab": {
          "base_uri": "https://localhost:8080/"
        },
        "id": "nETFYYoVshzn",
        "outputId": "7ac937b0-4b78-4f4a-d2e5-d49c421b9eb9"
      },
      "execution_count": null,
      "outputs": [
        {
          "output_type": "stream",
          "name": "stdout",
          "text": [
            "Overwriting test3.cpp\n"
          ]
        }
      ]
    },
    {
      "cell_type": "code",
      "source": [
        "!g++ test3.cpp -o test3\n",
        "!time ./test3"
      ],
      "metadata": {
        "colab": {
          "base_uri": "https://localhost:8080/"
        },
        "id": "rpqr7nrYtLJh",
        "outputId": "7c75197a-f6b6-4e81-c7e4-16f755767574"
      },
      "execution_count": null,
      "outputs": [
        {
          "output_type": "stream",
          "name": "stdout",
          "text": [
            "0 3 0 2 1 0 0 0 7 8 5 0 7 9 2 1 0 4 7 5 \n",
            "Ok\n",
            "1 0 0 0 1 5 0 6 9 0 7 2 2 9 \n",
            "Ok\n",
            "4 1 8 3 0 3 4 7 \n",
            "Ok\n",
            "6 1 7 2 8 3 3 1 3 5 2 4 1 4 3 2 4 \n",
            "Ok\n",
            "5 9 1 3 5 4 \n",
            "Ok\n",
            "9 4 7 3 4 2 1 7 \n",
            "Ok\n",
            "4 7 4 9 8 0 7 \n",
            "Ok\n",
            "6 0 7 9 2 \n",
            "Ok\n",
            "9 9 2 2 2 8 9 6 \n",
            "Ok\n",
            "5 5 2 9 9 3 \n",
            "Ok\n",
            "0 9 3 5 1 \n",
            "Ok\n",
            "5 8 6 1 8 3 3 \n",
            "Ok\n",
            "7 4 2 9 7 4 9 6 2 8 1 9 \n",
            "Ok\n",
            "3 8 6 1 1 5 7 8 6 1 5 6 7 6 4 \n",
            "Ok\n",
            "9 7 0 4 9 1 3 5 1 1 0 9 4 9 0 \n",
            "Ok\n",
            "0 8 1 1 3 8 9 2 \n",
            "Ok\n",
            "4 8 0 \n",
            "Ok\n",
            "5 3 4 \n",
            "Ok\n",
            "3 0 3 5 5 0 8 6 \n",
            "Ok\n",
            "7 2 2 9 2 4 7 3 \n",
            "Ok\n",
            "Excints 1327\n",
            "\n",
            "real\t0m0.002s\n",
            "user\t0m0.002s\n",
            "sys\t0m0.000s\n"
          ]
        }
      ]
    },
    {
      "cell_type": "markdown",
      "metadata": {
        "id": "L8U4151JNbxk"
      },
      "source": [
        "Count executed instructions in code and verify with inputs 1,2 and 3\n"
      ]
    },
    {
      "cell_type": "code",
      "metadata": {
        "id": "dh85RM8vNhFz",
        "colab": {
          "base_uri": "https://localhost:8080/"
        },
        "outputId": "f4848b1e-1f40-43b5-cc96-8a144d529ed6"
      },
      "source": [
        "0.004/113"
      ],
      "execution_count": null,
      "outputs": [
        {
          "output_type": "execute_result",
          "data": {
            "text/plain": [
              "3.5398230088495574e-05"
            ]
          },
          "metadata": {},
          "execution_count": 43
        }
      ]
    },
    {
      "cell_type": "code",
      "source": [
        "0.03/64"
      ],
      "metadata": {
        "colab": {
          "base_uri": "https://localhost:8080/"
        },
        "id": "Kn9xsjfSpDon",
        "outputId": "c3e09240-c9c0-488b-9d9c-4967627aa342"
      },
      "execution_count": null,
      "outputs": [
        {
          "output_type": "execute_result",
          "data": {
            "text/plain": [
              "0.00046875"
            ]
          },
          "metadata": {},
          "execution_count": 44
        }
      ]
    },
    {
      "cell_type": "code",
      "source": [
        "0.067/2200003"
      ],
      "metadata": {
        "colab": {
          "base_uri": "https://localhost:8080/"
        },
        "id": "uxenSWI1pD5N",
        "outputId": "cd1bd674-0379-4bd2-f417-aa1b8f579e3f"
      },
      "execution_count": null,
      "outputs": [
        {
          "output_type": "execute_result",
          "data": {
            "text/plain": [
              "3.045450392567647e-08"
            ]
          },
          "metadata": {},
          "execution_count": 45
        }
      ]
    },
    {
      "cell_type": "markdown",
      "metadata": {
        "id": "K6ybgCmpNygr"
      },
      "source": [
        "Calculate estimated time by instruction and number of instructions by second"
      ]
    },
    {
      "cell_type": "code",
      "metadata": {
        "id": "kwe3G1O3Nz1w",
        "colab": {
          "base_uri": "https://localhost:8080/"
        },
        "outputId": "dc78db0c-9f11-4998-bb6c-23e0527e1a7a"
      },
      "source": [
        "1/(0.004/113)"
      ],
      "execution_count": null,
      "outputs": [
        {
          "output_type": "execute_result",
          "data": {
            "text/plain": [
              "28250.0"
            ]
          },
          "metadata": {},
          "execution_count": 46
        }
      ]
    },
    {
      "cell_type": "code",
      "source": [
        "1/(0.03/64)"
      ],
      "metadata": {
        "colab": {
          "base_uri": "https://localhost:8080/"
        },
        "id": "eQ-oeUemHtii",
        "outputId": "1d8d73c7-1160-4829-ef8b-a2537f1901b0"
      },
      "execution_count": null,
      "outputs": [
        {
          "output_type": "execute_result",
          "data": {
            "text/plain": [
              "2133.3333333333335"
            ]
          },
          "metadata": {},
          "execution_count": 47
        }
      ]
    },
    {
      "cell_type": "code",
      "source": [
        "1/(0.067/2200003)"
      ],
      "metadata": {
        "colab": {
          "base_uri": "https://localhost:8080/"
        },
        "id": "QspUbwbTHt2B",
        "outputId": "223f7ebc-a432-4a64-a7bd-e39d23386465"
      },
      "execution_count": null,
      "outputs": [
        {
          "output_type": "execute_result",
          "data": {
            "text/plain": [
              "32835865.671641786"
            ]
          },
          "metadata": {},
          "execution_count": 48
        }
      ]
    },
    {
      "cell_type": "markdown",
      "metadata": {
        "id": "sc9nOLQrfTm0"
      },
      "source": [
        "### Super efficient solution\n",
        "\n",
        "Whitout storing the list in memory and whitout calling a function, add in each line a coment with the number of intstrcution that are executed in that line "
      ]
    },
    {
      "cell_type": "code",
      "source": [
        "%%writefile max_pairwise_product_long_execints.cpp\n",
        "#include <iostream>\n",
        "#include <vector>\n",
        "#include <algorithm>\n",
        "\n",
        "using namespace std;\n",
        "\n",
        "int main() {                                                 //N inst exec by line executed \n",
        "    long long execints =0LL;                                               //1\n",
        "    execints++;\n",
        "\n",
        "    int n;                                                                 //1\n",
        "    execints++;\n",
        "\n",
        "    cin >> n;                                                              //1\n",
        "    execints++;\n",
        "\n",
        "    long long max_product = 0LL;                                           //1\n",
        "    execints++;\n",
        "\n",
        "\t  long long aux_product = 0LL;                                           //1\n",
        "    execints++;                                                           \n",
        "    \n",
        "\n",
        "    for (int i = 0 ; i < n ; i ++){                                        //2n+1\n",
        "        int number;                                                        //n\n",
        "        execints++;\n",
        "\n",
        "        cin>>number;                                                       //n\n",
        "        execints++;\n",
        "\n",
        "        long long aux = max(max_product,(long long)number);                //n\n",
        "        execints++;\n",
        "        long long aux1 = max(aux_product,(long long)number);               //n\n",
        "        execints++;\n",
        "\n",
        "        if ( aux > max_product){                                           //(n-1)n/2 \n",
        "          execints++;\n",
        "\n",
        "          aux_product = max_product;                                       //[0,(n-1)n/2 ]\n",
        "          max_product = aux;                                               //[0,(n-1)n/2 ]\n",
        "          execints+=2;\n",
        "        }\n",
        "        if (aux1 > aux_product && aux1 != max_product){                    //(n-1)n/2\n",
        "          execints++;\n",
        "\n",
        "          aux_product = aux1;                                              //[0,(n-1)n/2 ]\n",
        "          execints++;\n",
        "        }\n",
        "    }\n",
        "    max_product = max_product*aux_product;                                 //1\n",
        "    execints++; \n",
        "\n",
        "    cout<< execints << endl;                     \n",
        "    return 0;                                                              //7 + 6n + 2(n-1)n/2 + 3*[0,(n-1)n/2]\n",
        "}        "
      ],
      "metadata": {
        "colab": {
          "base_uri": "https://localhost:8080/"
        },
        "id": "WA8YyUtBZVXe",
        "outputId": "fb4853d7-64e8-4b61-c1aa-c972d2b53c06"
      },
      "execution_count": null,
      "outputs": [
        {
          "output_type": "stream",
          "name": "stdout",
          "text": [
            "Overwriting max_pairwise_product_long_execints.cpp\n"
          ]
        }
      ]
    },
    {
      "cell_type": "markdown",
      "metadata": {
        "id": "683gc3roHqzb"
      },
      "source": [
        "Test with inputs 1 and 2\n",
        "\n",
        "\n",
        " "
      ]
    },
    {
      "cell_type": "code",
      "metadata": {
        "id": "b7d4LA8OIc2_",
        "colab": {
          "base_uri": "https://localhost:8080/"
        },
        "outputId": "5fe1d646-e3e4-49fa-d3a9-dfcccae5b166"
      },
      "source": [
        "!g++ max_pairwise_product_long_execints.cpp -o max_pairwise_product_long_execints\n",
        "!time ./max_pairwise_product_long_execints < input1.txt\n",
        "!time ./max_pairwise_product_long_execints < input2.txt "
      ],
      "execution_count": null,
      "outputs": [
        {
          "output_type": "stream",
          "name": "stdout",
          "text": [
            "76\n",
            "\n",
            "real\t0m0.002s\n",
            "user\t0m0.001s\n",
            "sys\t0m0.001s\n",
            "43\n",
            "\n",
            "real\t0m0.002s\n",
            "user\t0m0.002s\n",
            "sys\t0m0.000s\n"
          ]
        }
      ]
    },
    {
      "cell_type": "markdown",
      "metadata": {
        "id": "36Ugn1odIeJz"
      },
      "source": [
        "Test and time it with input 3"
      ]
    },
    {
      "cell_type": "code",
      "metadata": {
        "id": "jDyMbCnxHqSN",
        "colab": {
          "base_uri": "https://localhost:8080/"
        },
        "outputId": "b4a20435-ced3-4d2f-b07d-857a183a8c8c"
      },
      "source": [
        "!g++ max_pairwise_product_long_execints.cpp -o max_pairwise_product_long_execints\n",
        "!time ./max_pairwise_product_long_execints < input3.txt "
      ],
      "execution_count": null,
      "outputs": [
        {
          "output_type": "stream",
          "name": "stdout",
          "text": [
            "1400006\n",
            "\n",
            "real\t0m0.087s\n",
            "user\t0m0.081s\n",
            "sys\t0m0.001s\n"
          ]
        }
      ]
    },
    {
      "cell_type": "markdown",
      "metadata": {
        "id": "bhqiKQG6fjKM"
      },
      "source": [
        "20 stress tests "
      ]
    },
    {
      "cell_type": "code",
      "metadata": {
        "id": "2KsiXKhALzwm",
        "colab": {
          "base_uri": "https://localhost:8080/"
        },
        "outputId": "2a13ec9c-64bc-4349-b2d1-86aa219c8c66"
      },
      "source": [
        "%%writefile test3.cpp\n",
        "#include <iostream>\n",
        "#include <vector>\n",
        "#include <algorithm>\n",
        "\n",
        "using namespace std;\n",
        "\n",
        "long long MaxPairwiseProductL(const std::vector<int>& numbers) {\n",
        "    long long max_product = 0LL;\n",
        "\t  long long aux_product = 0LL;\n",
        "    int n = numbers.size();\n",
        "\n",
        "    for (int first = 0; first < n; ++first) {\n",
        "        for (int second = first + 1; second < n; ++second) {\n",
        "          if(numbers[first] != numbers[second]){\n",
        "            aux_product =  (long long) numbers[first] * numbers[second];\n",
        "            if ( max_product < aux_product)  {\n",
        "\t\t\t\t        max_product = aux_product;\n",
        "             }\n",
        "          }\n",
        "\t\t\t       \n",
        "        }\n",
        "    }\n",
        "\n",
        "    return max_product;\n",
        "}\n",
        "\n",
        "int main() {\n",
        "\n",
        "    srand(time(NULL));\n",
        "    long long execints = 0LL;\n",
        "    execints++;\n",
        "\n",
        "    for (int j = 0 ; j < 20 ; j++){\n",
        "\n",
        "      int n = rand()%19 +2;\n",
        "      execints++;\n",
        "\n",
        "      long long max_product = 0LL;\n",
        "      execints++;\n",
        "\n",
        "      long long aux_product = 0LL;\n",
        "      execints++;                                                           \n",
        "      \n",
        "      vector <int> numeros(n);\n",
        "\n",
        "      for (int i = 0 ; i < n ; i ++){\n",
        "          int number = rand()%10;\n",
        "          execints++;\n",
        "          cout << number << \" \";\n",
        "\n",
        "          numeros[i] = number;\n",
        "\n",
        "          long long aux = max(max_product,(long long)number);\n",
        "          execints++;\n",
        "          long long aux1 = max(aux_product,(long long)number);\n",
        "          execints++;\n",
        "\n",
        "          if ( aux > max_product){\n",
        "            execints++;\n",
        "\n",
        "            aux_product = max_product;\n",
        "            max_product = aux;\n",
        "            execints+=2;\n",
        "          }\n",
        "          if (aux1 > aux_product && aux1 != max_product){\n",
        "            execints++;\n",
        "\n",
        "            aux_product = aux1;\n",
        "            execints++;\n",
        "          }\n",
        "      }\n",
        "      cout<< endl;\n",
        "      max_product = max_product*aux_product;   \n",
        "      execints++;\n",
        "      int product2 = MaxPairwiseProductL(numeros);\n",
        "\n",
        "      if (max_product == product2){\n",
        "        cout<< \"Ok\"<< endl;\n",
        "      } else{\n",
        "        cout<< \"Respuesta incorrecta\" <<endl;\n",
        "      }\n",
        "    }\n",
        "    cout<<\"Excints: \" <<execints << endl;\n",
        "    return 0;\n",
        "}        "
      ],
      "execution_count": null,
      "outputs": [
        {
          "output_type": "stream",
          "name": "stdout",
          "text": [
            "Overwriting test3.cpp\n"
          ]
        }
      ]
    },
    {
      "cell_type": "code",
      "source": [
        "!g++ test3.cpp -o test3\n",
        "!time ./test3"
      ],
      "metadata": {
        "colab": {
          "base_uri": "https://localhost:8080/"
        },
        "id": "JNANmjOKeaf9",
        "outputId": "7a505123-7106-4f88-ea91-8591e82d79ae"
      },
      "execution_count": null,
      "outputs": [
        {
          "output_type": "stream",
          "name": "stdout",
          "text": [
            "4 2 2 1 1 1 4 2 7 7 \n",
            "Ok\n",
            "4 3 0 5 7 2 5 8 5 2 3 \n",
            "Ok\n",
            "2 0 \n",
            "Ok\n",
            "6 6 9 1 5 5 \n",
            "Ok\n",
            "9 6 7 1 2 9 8 1 2 5 \n",
            "Ok\n",
            "2 0 2 4 7 3 2 9 \n",
            "Ok\n",
            "8 1 \n",
            "Ok\n",
            "3 9 6 3 0 3 0 7 3 9 6 4 1 7 4 3 0 9 \n",
            "Ok\n",
            "4 1 2 1 8 7 3 9 6 1 \n",
            "Ok\n",
            "6 5 1 5 0 3 8 0 1 1 1 9 7 3 7 2 8 7 \n",
            "Ok\n",
            "8 1 5 2 4 5 0 7 5 6 9 9 4 6 1 \n",
            "Ok\n",
            "6 4 0 8 5 1 0 5 1 5 4 \n",
            "Ok\n",
            "5 3 8 5 6 5 7 1 1 9 \n",
            "Ok\n",
            "8 5 9 7 2 5 8 3 3 5 3 4 2 7 6 9 \n",
            "Ok\n",
            "3 3 3 8 6 3 \n",
            "Ok\n",
            "3 9 2 4 0 2 4 0 9 4 7 3 1 8 7 5 3 2 1 \n",
            "Ok\n",
            "1 7 5 1 0 0 6 0 7 0 5 2 9 9 \n",
            "Ok\n",
            "9 3 2 1 3 6 8 8 \n",
            "Ok\n",
            "8 5 5 3 0 6 9 1 3 6 5 5 6 1 7 5 1 \n",
            "Ok\n",
            "7 0 3 5 1 7 \n",
            "Ok\n",
            "Excints: 927\n",
            "\n",
            "real\t0m0.002s\n",
            "user\t0m0.001s\n",
            "sys\t0m0.001s\n"
          ]
        }
      ]
    },
    {
      "cell_type": "markdown",
      "metadata": {
        "id": "fEXj8GHJH5p1"
      },
      "source": [
        "Count executed instructions in code and verify with inputs 1,2 and 3"
      ]
    },
    {
      "cell_type": "code",
      "metadata": {
        "id": "LF1DHjKXIAsF",
        "colab": {
          "base_uri": "https://localhost:8080/"
        },
        "outputId": "fa8137f2-8f9d-452a-ea3b-055700f8d6f7"
      },
      "source": [
        "0.03/76"
      ],
      "execution_count": null,
      "outputs": [
        {
          "output_type": "execute_result",
          "data": {
            "text/plain": [
              "0.00039473684210526315"
            ]
          },
          "metadata": {},
          "execution_count": 54
        }
      ]
    },
    {
      "cell_type": "code",
      "source": [
        "0.002/43"
      ],
      "metadata": {
        "colab": {
          "base_uri": "https://localhost:8080/"
        },
        "id": "aQGKrzksIIQt",
        "outputId": "db43cf10-b04e-4489-c227-6e2ca6575735"
      },
      "execution_count": null,
      "outputs": [
        {
          "output_type": "execute_result",
          "data": {
            "text/plain": [
              "4.651162790697675e-05"
            ]
          },
          "metadata": {},
          "execution_count": 55
        }
      ]
    },
    {
      "cell_type": "code",
      "source": [
        "0.55/1400006"
      ],
      "metadata": {
        "colab": {
          "base_uri": "https://localhost:8080/"
        },
        "id": "LjMj-7VyIKog",
        "outputId": "b62a26ff-6bf3-425a-853b-60fcd32e80b2"
      },
      "execution_count": null,
      "outputs": [
        {
          "output_type": "execute_result",
          "data": {
            "text/plain": [
              "3.9285545919088923e-07"
            ]
          },
          "metadata": {},
          "execution_count": 56
        }
      ]
    },
    {
      "cell_type": "markdown",
      "metadata": {
        "id": "yae7sSm2IG9U"
      },
      "source": [
        "Calculate estimated time by instruction and number of instructions by second"
      ]
    },
    {
      "cell_type": "code",
      "metadata": {
        "id": "suouY7BYL2dz",
        "colab": {
          "base_uri": "https://localhost:8080/"
        },
        "outputId": "587043d3-a264-40b0-c904-a03a1b2de707"
      },
      "source": [
        "1/(0.03/76)"
      ],
      "execution_count": null,
      "outputs": [
        {
          "output_type": "execute_result",
          "data": {
            "text/plain": [
              "2533.3333333333335"
            ]
          },
          "metadata": {},
          "execution_count": 57
        }
      ]
    },
    {
      "cell_type": "code",
      "source": [
        "1/(0.002/43)"
      ],
      "metadata": {
        "colab": {
          "base_uri": "https://localhost:8080/"
        },
        "id": "uYGaY1jnZBZ9",
        "outputId": "5ff86661-386c-4545-8d04-83dfd0128da7"
      },
      "execution_count": null,
      "outputs": [
        {
          "output_type": "execute_result",
          "data": {
            "text/plain": [
              "21499.999999999996"
            ]
          },
          "metadata": {},
          "execution_count": 58
        }
      ]
    },
    {
      "cell_type": "code",
      "source": [
        "1/(0.55/1400006)"
      ],
      "metadata": {
        "colab": {
          "base_uri": "https://localhost:8080/"
        },
        "id": "jv-mv_MSISF9",
        "outputId": "247c3006-fada-4d26-dd1e-4f74dca1e612"
      },
      "execution_count": null,
      "outputs": [
        {
          "output_type": "execute_result",
          "data": {
            "text/plain": [
              "2545465.454545454"
            ]
          },
          "metadata": {},
          "execution_count": 59
        }
      ]
    },
    {
      "cell_type": "markdown",
      "metadata": {
        "id": "LkVxxlhl9H98"
      },
      "source": [
        "# Codeforces problem https://codeforces.com/contest/1619/problem/A \n",
        "\n",
        "Solve the problem in Colab, submit the solution to Codeforces and add a screenshoot of the submission."
      ]
    },
    {
      "cell_type": "code",
      "source": [
        "a = int(input())\n",
        "\n",
        "for i in range(a):\n",
        "    bandera = True\n",
        "    b = list(input())\n",
        "    if len(b) % 2 != 0:\n",
        "        bandera = False\n",
        "    else:\n",
        "        c1 = b[:int(len(b)/2)]\n",
        "        c2 = b[int(len(b)/2):]\n",
        "        if c1 == c2:\n",
        "            bandera = True\n",
        "        else:\n",
        "            bandera = False\n",
        "    if bandera:\n",
        "        print(\"YES\")\n",
        "    else:\n",
        "        print(\"NO\")\n"
      ],
      "metadata": {
        "id": "ded85OaKXjZR"
      },
      "execution_count": null,
      "outputs": []
    },
    {
      "cell_type": "markdown",
      "source": [
        "![image.png](data:image/png;base64,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)"
      ],
      "metadata": {
        "id": "Wq7x5MTsXj07"
      }
    }
  ]
}
