{
  "nbformat": 4,
  "nbformat_minor": 0,
  "metadata": {
    "colab": {
      "provenance": [],
      "include_colab_link": true
    },
    "kernelspec": {
      "name": "python3",
      "display_name": "Python 3"
    },
    "language_info": {
      "name": "python"
    }
  },
  "cells": [
    {
      "cell_type": "markdown",
      "metadata": {
        "id": "view-in-github",
        "colab_type": "text"
      },
      "source": [
        "<a href=\"https://colab.research.google.com/github/nihernandezv/AlgorithmsUN2023I/blob/main/Lab9/CormenSizeTimeComplexityGroup14.ipynb\" target=\"_parent\"><img src=\"https://colab.research.google.com/assets/colab-badge.svg\" alt=\"Open In Colab\"/></a>"
      ]
    },
    {
      "cell_type": "markdown",
      "source": [
        "# Complete the table (group \\# mod 4):\n",
        "\n",
        "> *group 6 mod 4 = 2*\n",
        "\n"
      ],
      "metadata": {
        "id": "4--59W99TTOJ"
      }
    },
    {
      "cell_type": "markdown",
      "metadata": {
        "id": "9fIs_70_DJWM"
      },
      "source": [
        "# 2.(2.5  nanoseconds by instruction)\n",
        "\n",
        "Asuuming that you can execute a 400 million instructions $400 \\times 10^6$ every second, i.e. each instrcution takes 2.5  nanoseconds, 2.5 $\\eta s  = 2.5 \\times 10^{-9} s$. If you have algorithms take $\\bf{ Time\\ Complexity}$ steps to solve a problem of size $n$ as specified in column one. What is the size of the largest problem that you can solve in the time specified in row one?\n",
        "$$\n",
        "\\begin{array}{|c|c|c|c|c|c|c|c|} \n",
        " \\hline\n",
        " \\bf{ Time\\ Complexity} & Second  & Minute  & Hour & Day & Year & Century & Millennium  \\\\ \n",
        "  \\hline\\\\ \n",
        "\\lg(n) &  2^{4 \\times 10^{8}} & 2^{2.4 \\times 10^{10}}  &  2^{1.44 \\times 10^{12}} & 2^{3.456 \\times 10^{13}} & 2^{1.26144 \\times 10^{16}} & 2^{1.26144 \\times 10^{18}} & 2^{1.26144 \\times 10^{19}} \\\\ \n",
        "   \\hline\\\\ \n",
        "\\lg^2(n) & 2^{20000} & 2^{154919} & 2^{1200000} &  2^{5878775} &  2^{112313845} & 2^{1123138459}  & 2^{3551675660} \\\\ \n",
        "   \\hline\\\\ \n",
        "\\sqrt{n} & 1.6 \\times 10^{17}  & 5.76 \\times 10^{20}  & 2.0736 \\times 10^{24}  & 1.1943936 \\times 10^{27} & 1.5912308736 \\times 10^{32} & 1.5912308736 \\times 10^{36} & 1.5912308736 \\times 10^{38}  \\\\ \n",
        " \\hline\n",
        " n & 4 \\times 10^{8}  & 2.4 \\times 10^{10}  & 1.44 \\times 10^{12} & 3.456 \\times 10^{13}  & 1.26144 \\times 10^{16} & 1.26144 \\times 10^{18} & 1.26144 \\times 10^{19} \\\\ \n",
        " \\hline\n",
        " n\\lg(n) &  16672916  & 810946912  & 40851448379 & 871310385977  & 263327470378616 & 23203092682389592 & 218986245421696512 \\\\ \n",
        " \\hline\n",
        " n^2 & 20000  & 154919 & 1200000 & 5878775 & 112313845 & 1123138459 & 355167566 \\\\ \n",
        " \\hline\n",
        "  n^3 & 736  & 2884 & 11292 & 32573 & 232785 & 1080493 & 2327852 \\\\  \n",
        " \\hline\n",
        "  n^4 & 141  & 393 & 1095 & 2424 & 10597 & 33513 & 59595 \\\\ \n",
        " \\hline\n",
        "  2^n & 28  & 34 & 40 & 44 & 53 & 60 & 63 \\\\ \n",
        " \\hline\n",
        " n! &  11  & 13  & 15 & 16 & 18 & 19 & 20 \\\\ \n",
        " \\hline\n",
        " n^n &  9  & 10  & 11 & 12 & 14 & 15 & 15 \\\\ \n",
        " \\hline\n",
        "\\end{array}\n",
        "$$"
      ]
    },
    {
      "cell_type": "markdown",
      "source": [
        "\n",
        "\n",
        "> **Nota:** Los valores obtenidos fueron truncados para determinar el máximo de instrucciones (enteras) que puede ejecutar la computadora\n",
        "\n"
      ],
      "metadata": {
        "id": "ZjwcysTn24Xl"
      }
    },
    {
      "cell_type": "markdown",
      "source": [
        "# Análisis:"
      ],
      "metadata": {
        "id": "GkiVnV8h3Inz"
      }
    },
    {
      "cell_type": "markdown",
      "metadata": {
        "id": "hioS01CHFp6v"
      },
      "source": [
        "$\\bf{ Time\\ Complexity\\ lg(n) }$\n",
        "\n",
        "$Second$\n",
        "$$ \\lg(n) \\times 2.5 \\times 10^{-9} s\\le 1\\ s$$ \n",
        "$$ \\lg(n) \\le \\frac{1}{2.5} \\times 10^{9}$$ \n",
        "$$ 2^{\\lg(n)} \\le 2^{0.4 \\times 10^{9}}$$ \n",
        "$$ n \\le 2^{4 \\times 10^{8}}$$ \n",
        "\n",
        "$Minute$\n",
        "$$ \\lg(n) \\times 2.5 \\times 10^{-9} s \\le 60\\ s$$ \n",
        "$$ \\lg(n) \\le \\frac{60}{2.5} \\times 10^{9}$$ \n",
        "$$ 2^{\\lg(n)} \\le 2^{24 \\times 10^{9}}$$ \n",
        "$$ n \\le 2^{2.4 \\times 10^{10}}$$ \n",
        "\n",
        "$Hour$\n",
        "$$ \\lg(n) \\times 2.5 \\times 10^{-9} s \\le 3600\\ s$$ \n",
        "$$ \\lg(n) \\le \\frac{3600}{2.5} \\times 10^{9}$$ \n",
        "$$ 2^{\\lg(n)} \\le 2^{1440 \\times 10^{9}}$$ \n",
        "$$ n \\le 2^{1.44 \\times 10^{12}}$$ \n",
        "\n",
        "$Day$\n",
        "$$ \\lg(n) \\times 2.5 \\times 10^{-9} s \\le 86400\\ s$$ \n",
        "$$ \\lg(n) \\le \\frac{86400}{2.5} \\times 10^{9}$$ \n",
        "$$ 2^{\\lg(n)} \\le 2^{34560 \\times 10^{9}}$$ \n",
        "$$ n \\le 2^{3.456 \\times 10^{13}}$$ \n",
        "\n",
        "$Year$\n",
        "$$ \\lg(n) \\times 2.5 \\times 10^{-9} s \\le 31536000\\ s$$ \n",
        "$$ \\lg(n) \\le \\frac{31536000}{2.5} \\times 10^{9}$$ \n",
        "$$ 2^{\\lg(n)} \\le 2^{12614400 \\times 10^{9}}$$ \n",
        "$$ n \\le 2^{1.26144 \\times 10^{16}}$$\n",
        "\n",
        "$Century$\n",
        "$$ \\lg(n) \\times 2.5 \\times 10^{-9} s \\le 3153600000\\ s$$ \n",
        "$$ \\lg(n) \\le \\frac{3153600000}{2.5} \\times 2.5 \\times 10^{9}$$ \n",
        "$$ 2^{\\lg(n)} \\le 2^{1261440000 \\times 10^{9}}$$ \n",
        "$$ n \\le 2^{1.26144 \\times 10^{18}}$$\n",
        "\n",
        "$Millennium$\n",
        "$$ \\lg(n) \\times 2.5 \\times 10^{-9} s \\le 31536000000\\ s$$ \n",
        "$$ \\lg(n) \\le \\frac{31536000000}{2.5} \\times 10^{9}$$ \n",
        "$$ 2^{\\lg(n)} \\le 2^{12614400000 \\times 10^{9}}$$ \n",
        "$$ n \\le 2^{1.26144 \\times 10^{19}}$$\n"
      ]
    },
    {
      "cell_type": "markdown",
      "source": [
        "$\\bf{ Time\\ Complexity\\ lg^2(n) }$\n",
        "\n",
        "$Second$\n",
        "$$ \\lg^2(n) \\times 2.5 \\times 10^{-9} s\\le 1\\ s$$ \n",
        "$$ \\lg^2(n) \\le  \\frac{1}{2.5} \\times 10^{9}$$ \n",
        "$$ \\lg(n) \\le \\sqrt {0.4 \\times 10^{9}}$$ \n",
        "$$ 2^{\\lg(n)} \\le 2^{\\sqrt {4 \\times 10^{8}}}$$ \n",
        "$$ n \\le 2^{20000}$$\n",
        "\n",
        "$Minute$\n",
        "$$ \\lg^2(n) \\times 2.5 \\times 10^{-9} s\\le 60\\ s$$ \n",
        "$$ \\lg^2(n) \\le \\frac{60}{2.5} \\times 10^{9}$$ \n",
        "$$ \\lg(n) \\le \\sqrt {24 \\times 10^{9}}$$ \n",
        "$$ 2^{\\lg(n)} \\le 2^{\\sqrt {2.4 \\times 10^{10}}}$$ \n",
        "$$ n \\le 2^{154919}$$  \n",
        "\n",
        "$Hour$\n",
        "$$ \\lg^2(n) \\times 2.5 \\times 10^{-9} s\\le 3600\\ s$$ \n",
        "$$ \\lg^2(n) \\le \\frac{3600}{2.5} \\times 10^{9}$$ \n",
        "$$ \\lg(n) \\le \\sqrt {1440 \\times 10^{9}}$$ \n",
        "$$ 2^{\\lg(n)} \\le 2^{1.44 \\times 10^{12}}$$ \n",
        "$$ n \\le 2^{1200000}$$ \n",
        "\n",
        "$Day$\n",
        "$$ \\lg^2(n) \\times 2.5 \\times 10^{-9} s\\le 86400\\ s$$ \n",
        "$$ \\lg^2(n) \\le \\frac{86400}{2.5} \\times 10^{9}$$ \n",
        "$$ \\lg(n) \\le \\sqrt {34560 \\times 10^{9}}$$ \n",
        "$$ 2^{\\lg(n)} \\le 2^{\\sqrt {3.456 \\times 10^{13}}}$$ \n",
        "$$ n \\le 2^{5878775}$$  \n",
        "\n",
        "$Year$\n",
        "$$ \\lg^2(n) \\times 2.5 \\times 10^{-9} s\\le 31536000\\ s$$ \n",
        "$$ \\lg^2(n) \\le \\frac{31536000}{2.5} \\times 10^{9}$$ \n",
        "$$ \\lg(n) \\le \\sqrt {12614400 \\times 10^{9}}$$ \n",
        "$$ 2^{\\lg(n)} \\le 2^{\\sqrt {1.26144 \\times 10^{16}}}$$ \n",
        "$$ n \\le 2^{112313845}$$ \n",
        "\n",
        "$Century$\n",
        "$$ \\lg^2(n) \\times 2.5 \\times 10^{-9} s\\le 3153600000\\ s$$ \n",
        "$$ \\lg^2(n) \\le \\frac{3153600000}{2.5} \\times 10^{9}$$ \n",
        "$$ \\lg(n) \\le \\sqrt {1261440000 \\times 10^{18}}$$ \n",
        "$$ 2^{\\lg(n)} \\le 2^{\\sqrt {1.26144 \\times 10^{18}}}$$ \n",
        "$$ n \\le 2^{1123138459}$$\n",
        "\n",
        "$Millennium$\n",
        "$$ \\lg^2(n) \\times 2.5 \\times 10^{-9} s\\le 3153600000\\ s$$ \n",
        "$$ \\lg^2(n) \\le \\frac{31536000000}{2.5} \\times 10^{9}$$ \n",
        "$$ \\lg(n) \\le \\sqrt {12614400000 \\times 10^{19}}$$ \n",
        "$$ 2^{\\lg(n)} \\le 2^{\\sqrt {1.26144 \\times 10^{19}}}$$ \n",
        "$$ n \\le 2^{3551675660}$$"
      ],
      "metadata": {
        "id": "vIreWjOUJcJz"
      }
    },
    {
      "cell_type": "markdown",
      "source": [
        "$\\bf{ Time\\ Complexity\\ \\sqrt n }$\n",
        "\n",
        "$Second$\n",
        "$$  \\sqrt n \\times 2.5 \\times 10^{-9}\\ s\\le 1\\ s$$ \n",
        "$$  \\sqrt n \\le  \\frac{1}{2.5} \\times 10^{9}$$ \n",
        "$$ \\sqrt{n}^2 \\le (0.4 \\times 10^{9})^2$$ \n",
        "$$ n \\le 1.6 \\times 10^{17} $$ \n",
        "\n",
        "$Minute$\n",
        "$$  \\sqrt n \\times 2.5 \\times 10^{-9}\\ s\\le 60\\ s$$ \n",
        "$$  \\sqrt n \\le \\frac{60}{2.5} \\times 10^{9}$$ \n",
        "$$ \\sqrt{n}^2 \\le (24 \\times 10^{9})^2$$ \n",
        "$$ n \\le 5.76 \\times 10^{20} $$ \n",
        "\n",
        "$Hour$\n",
        "$$  \\sqrt n \\times 2.5 \\times 10^{-9}\\ s\\le 3600\\ s$$ \n",
        "$$  \\sqrt n \\le \\frac{3600}{2.5} \\times 10^{9}$$ \n",
        "$$ \\sqrt{n}^2 \\le (1440 \\times 10^{9})^2$$ \n",
        "$$ n \\le 2.0736 \\times 10^{24} $$ \n",
        "\n",
        "$Day$\n",
        "$$  \\sqrt n \\times 2.5 \\times 10^{-9}\\ s\\le 86400\\ s$$ \n",
        "$$  \\sqrt n \\le \\frac{86400}{2.5} \\times 10^{9}$$ \n",
        "$$ \\sqrt{n}^2 \\le (34560 \\times 10^{9})^2$$ \n",
        "$$ n \\le 1.1943936 \\times 10^{27} $$ \n",
        "\n",
        "$Year$\n",
        "$$  \\sqrt n \\times 2.5 \\times 10^{-9}\\ s\\le 31536000\\ s$$ \n",
        "$$  \\sqrt n \\le \\frac{31536000}{2.5} \\times 10^{9}$$ \n",
        "$$ \\sqrt{n}^2 \\le (12614400 \\times 10^{9})^2$$ \n",
        "$$ n \\le 1.5912308736 \\times 10^{32} $$ \n",
        "\n",
        "$Century$\n",
        "$$  \\sqrt n \\times 2.5 \\times 10^{-9}\\ s\\le 3153600000\\ s$$ \n",
        "$$  \\sqrt n \\le \\frac{3153600000}{2.5}\\times 10^{9}$$ \n",
        "$$ \\sqrt{n}^2 \\le (126144000 \\times 10^{9})^2$$ \n",
        "$$ n \\le 1.5912308736 \\times 10^{36} $$ \n",
        "\n",
        "$Millenium$\n",
        "$$  \\sqrt n \\times 2.5 \\times 10^{-9}\\ s\\le 31536000000\\ s$$ \n",
        "$$  \\sqrt n \\le \\frac{31536000000}{2.5}\\times 10^{9}$$ \n",
        "$$ \\sqrt{n}^2 \\le (12614400000 \\times 10^{9})^2$$ \n",
        "$$ n \\le 1.5912308736 \\times 10^{38} $$ "
      ],
      "metadata": {
        "id": "sneL7akJO03b"
      }
    },
    {
      "cell_type": "markdown",
      "source": [
        "$\\bf{ Time\\ Complexity\\  n }$\n",
        "\n",
        "$Second$\n",
        "$$ n \\times 2.5 \\times 10^{-9}\\ s\\le 1\\ s$$ \n",
        "$$ n \\le  \\frac{1}{2.5} \\times 10^{9}$$ \n",
        "$$ n \\le 0.4 \\times 10^{9}$$ \n",
        "$$ n \\le 4 \\times 10^{8} $$ \n",
        "\n",
        "$Minute$\n",
        "$$ n \\times 2.5 \\times 10^{-9}\\ s\\le 60\\ s$$ \n",
        "$$ n \\le \\frac{60}{2.5} \\times 10^{9}$$ \n",
        "$$ n \\le 24 \\times 10^{9}$$ \n",
        "$$ n \\le 2.4 \\times 10^{10}$$ \n",
        "\n",
        "$Hour$\n",
        "$$ n \\times 2.5 \\times 10^{-9}\\ s\\le 3600\\ s$$ \n",
        "$$ n \\le \\frac{3600}{2.5} \\times 10^{9}$$ \n",
        "$$ n \\le 1440 \\times 10^{9}$$ \n",
        "$$ n \\le 1.44 \\times 10^{12} $$ \n",
        "\n",
        "$Day$\n",
        "$$ n \\times 2.5 \\times 10^{-9}\\ s\\le 86400\\ s$$ \n",
        "$$ n \\le \\frac{86400}{2.5} \\times 10^{9}$$ \n",
        "$$ n \\le 34560 \\times 10^{9}$$ \n",
        "$$ n \\le 3.456 \\times 10^{13} $$ \n",
        "\n",
        "$Year$\n",
        "$$ n \\times 2.5 \\times 10^{-9}\\ s\\le 31536000\\ s$$ \n",
        "$$ n \\le \\frac{31536000}{2.5} \\times 10^{9}$$ \n",
        "$$ n \\le 12614400 \\times 10^{9}$$ \n",
        "$$ n \\le 1.26144 \\times 10^{16} $$ \n",
        "\n",
        "$Century$\n",
        "$$ n \\times 2.5 \\times 10^{-9}\\ s\\le 3153600000\\ s$$ \n",
        "$$ n \\le \\frac{3153600000}{2.5} \\times 10^{9}$$ \n",
        "$$ n \\le 1261440000 \\times 10^{9}$$ \n",
        "$$ n \\le 1.26144 \\times 10^{18} $$  \n",
        "\n",
        "$Millenium$\n",
        "$$ n \\times 2.5 \\times 10^{-9}\\ s\\le 31536000000\\ s$$ \n",
        "$$ n \\le \\frac{31536000000}{2.5} \\times 10^{9}$$ \n",
        "$$ n \\le 12614400000 \\times 10^{9}$$ \n",
        "$$ n \\le 1.26144 \\times 10^{19} $$ "
      ],
      "metadata": {
        "id": "khugkNJPRoBJ"
      }
    },
    {
      "cell_type": "markdown",
      "source": [
        "$\\bf{ Time\\ Complexity\\   n \\ lg(n) }$"
      ],
      "metadata": {
        "id": "Untb32OFb_T6"
      }
    },
    {
      "cell_type": "code",
      "metadata": {
        "colab": {
          "base_uri": "https://localhost:8080/"
        },
        "id": "szukBFthF1_s",
        "outputId": "6d3b570d-36ef-496f-fac8-0eb4b66207e7"
      },
      "source": [
        "import math\n",
        "\n",
        "# 2) 2.5 nanoseconds by Instruction: Time complexity n log(n)\n",
        "\n",
        "def nlogn_complexity(seg):\n",
        "    n = 2\n",
        "    maximo = (seg/2.5)*10**9\n",
        "    nlogn = 0\n",
        "    while(nlogn < maximo):\n",
        "        n = maximo/math.log2(n)\n",
        "        nlogn += (maximo-nlogn)/2\n",
        "    return int(n)\n",
        "\n",
        "print(\"Second: \\nn <=\", nlogn_complexity(1))\n",
        "print(\"Minute: \\nn <=\", nlogn_complexity(60))\n",
        "print(\"Hour: \\nn <=\", nlogn_complexity(3600))\n",
        "print(\"Day: \\nn <=\", nlogn_complexity(86400))\n",
        "print(\"Year: \\nn <=\", nlogn_complexity(31536000))\n",
        "print(\"Century: \\nn <=\", nlogn_complexity(3153600000))\n",
        "print(\"Millenium: \\nn <=\", nlogn_complexity(31536000000))"
      ],
      "execution_count": 1,
      "outputs": [
        {
          "output_type": "stream",
          "name": "stdout",
          "text": [
            "Second: \n",
            "n <= 16672916\n",
            "Minute: \n",
            "n <= 810946912\n",
            "Hour: \n",
            "n <= 40851448379\n",
            "Day: \n",
            "n <= 871310385977\n",
            "Year: \n",
            "n <= 263327470378616\n",
            "Year: \n",
            "n <= 23203092682389592\n",
            "Year: \n",
            "n <= 218986245421696512\n"
          ]
        }
      ]
    },
    {
      "cell_type": "markdown",
      "source": [
        "$\\bf{ Time\\ Complexity\\ n^2 }$\n",
        "\n",
        "$Second$\n",
        "$$ n^2 \\times 2.5 \\times 10^{-9}\\ s\\le 1\\ s$$ \n",
        "$$ n^2 \\le  \\frac{1}{2.5} \\times 10^{9}$$ \n",
        "$$ n \\le \\sqrt{ 0.4 \\times 10^{9}}$$ \n",
        "$$ n \\le 20000 $$ \n",
        "\n",
        "$Minute$\n",
        "$$ n^2 \\times 2.5 \\times 10^{-9}\\ s\\le 60\\ s$$ \n",
        "$$ n^2 \\le \\frac{60}{2.5} \\times 10^{9}$$ \n",
        "$$ n \\le \\sqrt{ 24 \\times 10^{9}}$$ \n",
        "$$ n \\le 154919$$ \n",
        "\n",
        "$Hour$\n",
        "$$ n^2 \\times 2.5 \\times 10^{-9}\\ s\\le 3600\\ s$$ \n",
        "$$ n^2 \\le \\frac{3600}{2.5} \\times 10^{9}$$ \n",
        "$$ n \\le \\sqrt{ 1440 \\times 10^{9}}$$ \n",
        "$$ n \\le 1200000 $$ \n",
        "\n",
        "$Day$\n",
        "$$ n^2 \\times 2.5 \\times 10^{-9}\\ s\\le 86400\\ s$$ \n",
        "$$ n^2 \\le \\frac{86400}{2.5} \\times 10^{9}$$ \n",
        "$$ n \\le \\sqrt{ 34560 \\times 10^{9}}$$ \n",
        "$$ n \\le 5878775 $$ \n",
        "\n",
        "$Year$\n",
        "$$ n^2 \\times 2.5 \\times 10^{-9}\\ s\\le 31536000\\ s$$ \n",
        "$$ n^2 \\le \\frac{31536000}{2.5} \\times 10^{9}$$ \n",
        "$$ n \\le \\sqrt{ 12614400 \\times 10^{9}}$$ \n",
        "$$ n \\le 112313845 $$ \n",
        "\n",
        "$Century$\n",
        "$$ n^2 \\times 2.5 \\times 10^{-9}\\ s\\le 3153600000\\ s$$ \n",
        "$$ n^2 \\le \\frac{3153600000}{2.5} \\times 10^{9}$$ \n",
        "$$ n \\le \\sqrt{ 1261440000 \\times 10^{9}}$$ \n",
        "$$ n \\le 1123138459 $$  \n",
        "\n",
        "$Millenium$\n",
        "$$ n^2 \\times 2.5 \\times 10^{-9}\\ s\\le 31536000000\\ s$$ \n",
        "$$ n^2 \\le \\frac{31536000000}{2.5} \\times 10^{9}$$ \n",
        "$$ n \\le \\sqrt{ 12614400000 \\times 10^{9}}$$ \n",
        "$$ n \\le 355167566$$ "
      ],
      "metadata": {
        "id": "b2nQCiMvJe4E"
      }
    },
    {
      "cell_type": "markdown",
      "source": [
        "$\\bf{ Time\\ Complexity\\ n^3 }$\n",
        "\n",
        "$Second$\n",
        "$$ n^3 \\times 2.5 \\times 10^{-9}\\ s\\le 1\\ s$$ \n",
        "$$ n^3 \\le  \\frac{1}{2.5} \\times 10^{9}$$ \n",
        "$$ n \\le \\sqrt[3]{ 0.4 \\times 10^{9}}$$ \n",
        "$$ n \\le 736 $$ \n",
        "\n",
        "$Minute$\n",
        "$$ n^3 \\times 2.5 \\times 10^{-9}\\ s\\le 60\\ s$$ \n",
        "$$ n^3 \\le \\frac{60}{2.5} \\times 10^{9}$$ \n",
        "$$ n \\le \\sqrt[3]{ 24 \\times 10^{9}}$$ \n",
        "$$ n \\le 2884$$ \n",
        "\n",
        "$Hour$\n",
        "$$ n^3 \\times 2.5 \\times 10^{-9}\\ s\\le 3600\\ s$$ \n",
        "$$ n^3 \\le \\frac{3600}{2.5} \\times 10^{9}$$ \n",
        "$$ n \\le \\sqrt[3]{ 1440 \\times 10^{9}}$$ \n",
        "$$ n \\le 11292 $$ \n",
        "\n",
        "$Day$\n",
        "$$ n^3 \\times 2.5 \\times 10^{-9}\\ s\\le 86400\\ s$$ \n",
        "$$ n^3 \\le \\frac{86400}{2.5} \\times 10^{9}$$ \n",
        "$$ n \\le \\sqrt[3]{ 34560 \\times 10^{9}}$$ \n",
        "$$ n \\le 32573 $$ \n",
        "\n",
        "$Year$\n",
        "$$ n^3 \\times 2.5 \\times 10^{-9}\\ s\\le 31536000\\ s$$ \n",
        "$$ n^3 \\le \\frac{31536000}{2.5} \\times 10^{9}$$ \n",
        "$$ n \\le \\sqrt[3]{ 12614400 \\times 10^{9}}$$ \n",
        "$$ n \\le 232785 $$ \n",
        "\n",
        "$Century$\n",
        "$$ n^3 \\times 2.5 \\times 10^{-9}\\ s\\le 3153600000\\ s$$ \n",
        "$$ n^3 \\le \\frac{3153600000}{2.5} \\times 10^{9}$$ \n",
        "$$ n \\le \\sqrt[3]{ 1261440000 \\times 10^{9}}$$ \n",
        "$$ n \\le 1080493 $$  \n",
        "\n",
        "$Millenium$\n",
        "$$ n^3 \\times 2.5 \\times 10^{-9}\\ s\\le 31536000000\\ s$$ \n",
        "$$ n^3 \\le \\frac{31536000000}{2.5} \\times 10^{9}$$ \n",
        "$$ n \\le \\sqrt[3]{ 12614400000 \\times 10^{9}}$$ \n",
        "$$ n \\le 2327852$$ "
      ],
      "metadata": {
        "id": "NtHcpgk1w-lf"
      }
    },
    {
      "cell_type": "markdown",
      "source": [
        "$\\bf{ Time\\ Complexity\\ n^4 }$\n",
        "\n",
        "$Second$\n",
        "$$ n^4 \\times 2.5 \\times 10^{-9}\\ s\\le 1\\ s$$ \n",
        "$$ n^4 \\le  \\frac{1}{2.5} \\times 10^{9}$$ \n",
        "$$ n \\le \\sqrt[4]{ 0.4 \\times 10^{9}}$$ \n",
        "$$ n \\le 141 $$ \n",
        "\n",
        "$Minute$\n",
        "$$ n^4 \\times 2.5 \\times 10^{-9}\\ s\\le 60\\ s$$ \n",
        "$$ n^4 \\le \\frac{60}{2.5} \\times 10^{9}$$ \n",
        "$$ n \\le \\sqrt[4]{ 24 \\times 10^{9}}$$ \n",
        "$$ n \\le 393$$ \n",
        "\n",
        "$Hour$\n",
        "$$ n^4 \\times 2.5 \\times 10^{-9}\\ s\\le 3600\\ s$$ \n",
        "$$ n^4 \\le \\frac{3600}{2.5} \\times 10^{9}$$ \n",
        "$$ n \\le \\sqrt[4]{ 1440 \\times 10^{9}}$$ \n",
        "$$ n \\le 1095 $$ \n",
        "\n",
        "$Day$\n",
        "$$ n^4 \\times 2.5 \\times 10^{-9}\\ s\\le 86400\\ s$$ \n",
        "$$ n^4 \\le \\frac{86400}{2.5} \\times 10^{9}$$ \n",
        "$$ n \\le \\sqrt[4]{ 34560 \\times 10^{9}}$$ \n",
        "$$ n \\le 2424 $$ \n",
        "\n",
        "$Year$\n",
        "$$ n^4 \\times 2.5 \\times 10^{-9}\\ s\\le 31536000\\ s$$ \n",
        "$$ n^4 \\le \\frac{31536000}{2.5} \\times 10^{9}$$ \n",
        "$$ n \\le \\sqrt[4]{ 12614400 \\times 10^{9}}$$ \n",
        "$$ n \\le 10597 $$ \n",
        "\n",
        "$Century$\n",
        "$$ n^4 \\times 2.5 \\times 10^{-9}\\ s\\le 3153600000\\ s$$ \n",
        "$$ n^4 \\le \\frac{3153600000}{2.5} \\times 10^{9}$$ \n",
        "$$ n \\le \\sqrt[4]{ 1261440000 \\times 10^{9}}$$ \n",
        "$$ n \\le 33513 $$  \n",
        "\n",
        "$Millenium$\n",
        "$$ n^4 \\times 2.5 \\times 10^{-9}\\ s\\le 31536000000\\ s$$ \n",
        "$$ n^4 \\le \\frac{31536000000}{2.5} \\times 10^{9}$$ \n",
        "$$ n \\le \\sqrt[4]{ 12614400000 \\times 10^{9}}$$ \n",
        "$$ n \\le 59595 $$ "
      ],
      "metadata": {
        "id": "HUE5Y4XUytFR"
      }
    },
    {
      "cell_type": "markdown",
      "source": [
        "$\\bf{ Time\\ Complexity\\  2^n }$\n",
        "\n",
        "$Second$\n",
        "$$  2^n \\times 2.5 \\times 10^{-9}\\ s\\le 1\\ s$$ \n",
        "$$   2^n \\le  \\frac{1}{2.5} \\times 10^{9}$$ \n",
        "$$   log_2(2^n) \\le  log_2(0.4 \\times 10^{9})$$\n",
        "$$   n \\le log_2(4 \\times 10^{8})$$\n",
        "$$   n \\le 28 $$\n",
        "\n",
        "$Minute$\n",
        "$$  2^n \\times 2.5 \\times 10^{-9}\\ s\\le 60\\ s$$ \n",
        "$$   2^n \\le \\frac{60}{2.5} \\times 10^{9}$$ \n",
        "$$   log_2(2^n) \\le  log_2(24 \\times 10^{9})$$\n",
        "$$   n \\le  log_2(2.4 \\times 10^{10})$$\n",
        "$$   n \\le 34 $$\n",
        "\n",
        "$Hour$\n",
        "$$  2^n \\times 2.5 \\times 10^{-9}\\ s\\le 3600\\ s$$ \n",
        "$$   2^n \\le \\frac{3600}{2.5} \\times 10^{9}$$ \n",
        "$$   log_2(2^n) \\le  log_2(1440 \\times 10^{9})$$\n",
        "$$   n \\le  log_2(1.44 \\times 10^{12})$$\n",
        "$$   n \\le 40 $$\n",
        "\n",
        "$Day$\n",
        "$$  2^n \\times 2.5 \\times 10^{-9}\\ s\\le 86400\\ s$$ \n",
        "$$   2^n \\le \\frac{86400}{2.5} \\times 10^{9}$$ \n",
        "$$   log_2(2^n) \\le  log_2(34560 \\times 10^{9})$$\n",
        "$$   n \\le  log_2(3.456 \\times 10^{13})$$\n",
        "$$   n \\le 44 $$\n",
        "\n",
        "$Year$\n",
        "$$  2^n \\times 2.5 \\times 10^{-9}\\ s\\le 31536000\\ s$$ \n",
        "$$   2^n \\le \\frac{31536000}{2.5} \\times 10^{9}$$ \n",
        "$$   log_2(2^n) \\le  log_2(12614400 \\times 10^{9})$$\n",
        "$$   n \\le  log_2(1.26144 \\times 10^{16})$$\n",
        "$$   n \\le 53 $$\n",
        "\n",
        "$Century$\n",
        "$$  2^n \\times 2.5 \\times 10^{-9}\\ s\\le 3153600000\\ s$$ \n",
        "$$   2^n \\le \\frac{3153600000}{2.5} \\times 10^{9}$$ \n",
        "$$   log_2(2^n) \\le  log_2(1261440000 \\times 10^{9})$$\n",
        "$$   n \\le  log_2(1.26144 \\times 10^{18})$$\n",
        "$$   n \\le 60 $$\n",
        "\n",
        "$Millenium$\n",
        "$$  2^n \\times 2.5 \\times 10^{-9}\\ s\\le 31536000000\\ s$$ \n",
        "$$   2^n \\le \\frac{31536000000}{2.5} \\times 10^{9}$$ \n",
        "$$   log_2(2^n) \\le  log_2(12614400000 \\times 10^{9})$$\n",
        "$$   n \\le  log_2(1.26144 \\times 10^{19})$$\n",
        "$$   n \\le 63 $$"
      ],
      "metadata": {
        "id": "I5gyGani0c5u"
      }
    },
    {
      "cell_type": "markdown",
      "source": [
        "$\\bf{ Time\\ Complexity\\   n ! }$"
      ],
      "metadata": {
        "id": "kWGeskd24kgP"
      }
    },
    {
      "cell_type": "code",
      "metadata": {
        "colab": {
          "base_uri": "https://localhost:8080/"
        },
        "outputId": "83e7ceed-8935-473c-910c-abbd013f9089",
        "id": "3RERCj844utv"
      },
      "source": [
        "import math\n",
        "\n",
        "# 2) 2.5 nanoseconds by Instruction: Time complexity n!\n",
        "\n",
        "def nfact_complexity(seg):\n",
        "    n = 0\n",
        "    maximo = (seg/2.5)*10**9\n",
        "    nfact = 1\n",
        "    while(nfact <= maximo):\n",
        "        n = n + 1\n",
        "        nfact = math.factorial(n)\n",
        "    return int(n-1)\n",
        "\n",
        "print(\"Second: \\nn <=\", nfact_complexity(1))\n",
        "print(\"Minute: \\nn <=\", nfact_complexity(60))\n",
        "print(\"Hour: \\nn <=\", nfact_complexity(3600))\n",
        "print(\"Day: \\nn <=\", nfact_complexity(86400))\n",
        "print(\"Year: \\nn <=\", nfact_complexity(31536000))\n",
        "print(\"Century: \\nn <=\", nfact_complexity(3153600000))\n",
        "print(\"Millenium: \\nn <=\", nfact_complexity(31536000000))"
      ],
      "execution_count": 2,
      "outputs": [
        {
          "output_type": "stream",
          "name": "stdout",
          "text": [
            "Second: \n",
            "n <= 11\n",
            "Minute: \n",
            "n <= 13\n",
            "Hour: \n",
            "n <= 15\n",
            "Day: \n",
            "n <= 16\n",
            "Year: \n",
            "n <= 18\n",
            "Year: \n",
            "n <= 19\n",
            "Year: \n",
            "n <= 20\n"
          ]
        }
      ]
    },
    {
      "cell_type": "markdown",
      "source": [
        "$\\bf{ Time\\ Complexity\\   n ^n }$"
      ],
      "metadata": {
        "id": "2Y6LjcHn6BV_"
      }
    },
    {
      "cell_type": "code",
      "metadata": {
        "colab": {
          "base_uri": "https://localhost:8080/"
        },
        "outputId": "69f94fe8-d768-4f3e-a4ac-35a4ae4ca61e",
        "id": "N6xssaN66Fjg"
      },
      "source": [
        "import math\n",
        "\n",
        "# 2) 2.5 nanoseconds by Instruction: Time complexity n^n\n",
        "\n",
        "def npotn_complexity(seg):\n",
        "    n = 0\n",
        "    maximo = (seg/2.5)*10**9\n",
        "    npotn = 1\n",
        "    while(npotn <= maximo):\n",
        "        n = n + 1\n",
        "        npotn = n**n\n",
        "    return int(n-1)\n",
        "\n",
        "print(\"Second: \\nn <=\", npotn_complexity(1))\n",
        "print(\"Minute: \\nn <=\", npotn_complexity(60))\n",
        "print(\"Hour: \\nn <=\", npotn_complexity(3600))\n",
        "print(\"Day: \\nn <=\", npotn_complexity(86400))\n",
        "print(\"Year: \\nn <=\", npotn_complexity(31536000))\n",
        "print(\"Century: \\nn <=\", npotn_complexity(3153600000))\n",
        "print(\"Millenium: \\nn <=\", npotn_complexity(31536000000))"
      ],
      "execution_count": 3,
      "outputs": [
        {
          "output_type": "stream",
          "name": "stdout",
          "text": [
            "Second: \n",
            "n <= 9\n",
            "Minute: \n",
            "n <= 10\n",
            "Hour: \n",
            "n <= 11\n",
            "Day: \n",
            "n <= 12\n",
            "Year: \n",
            "n <= 14\n",
            "Year: \n",
            "n <= 15\n",
            "Year: \n",
            "n <= 15\n"
          ]
        }
      ]
    }
  ]
}